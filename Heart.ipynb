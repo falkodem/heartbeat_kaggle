{
 "cells": [
  {
   "cell_type": "code",
   "execution_count": 1,
   "metadata": {},
   "outputs": [],
   "source": [
    "import pandas as pd\n",
    "import numpy as np\n",
    "import seaborn as sns\n",
    "import matplotlib.pyplot as plt\n",
    "import os, fnmatch\n",
    "\n",
    "import scipy\n",
    "from scipy.io import wavfile\n",
    "from scipy import signal\n",
    "from scipy.fft import fftshift,dct\n",
    "from scipy import interpolate\n",
    "\n",
    "from sklearn.model_selection import train_test_split\n",
    "from sklearn.preprocessing import Normalizer\n",
    "scaler = Normalizer(norm='max')\n",
    "\n",
    "import torch\n",
    "from hmmlearn import hmm\n",
    "import re\n",
    "import random\n",
    "\n",
    "random.seed(0)\n",
    "np.random.seed(0)\n",
    "torch.manual_seed(0)\n",
    "torch.cuda.manual_seed(0)\n",
    "torch.backends.cudnn.deterministic = True"
   ]
  },
  {
   "cell_type": "markdown",
   "metadata": {},
   "source": [
    "1. лоу пасс                        \n",
    "2. попробовать рекуррентной и понять\n",
    "3. попробовать сверточной           \n",
    "        Github\n",
    "4. <b>попробовать марковскими цепями</b>\n",
    "           Разделить выборку на n групп по лейблам, и обучить n моделей. Тестовую выборку скармливать каждой модели, они должны какую то оценку выдавать и по этой оценке решать к какому классу принадлежит\n",
    "5. <b>Сбалансировать классы</b>\n",
    "7. попробовать разбить по амплитуде на циклы сердцебиения, и для каждого предсказывать вероятность, потому там подумать как их перемножить чи шо\n",
    "8. <b>минимизация ошибки второго рода, пропуска цели, FN</b> \n",
    "9. попробовать с артифакт и без extra \n",
    "10. попробовать без фильтрации\n",
    "11. <b>аугментация</b>"
   ]
  },
  {
   "cell_type": "markdown",
   "metadata": {},
   "source": [
    "# Frequency Analysis"
   ]
  },
  {
   "cell_type": "code",
   "execution_count": 3,
   "metadata": {},
   "outputs": [],
   "source": [
    "coefs = []\n",
    "path = 'D:/Учеба/Технопарк/Heart/'\n",
    "A_folder_filt = path+'set_filt_1/'\n",
    "# A_folder_filt = path+'set_1/'\n",
    "\n",
    "i=0\n",
    "scaler = Normalizer(norm='max')\n",
    "for fil in os.listdir(A_folder_filt):\n",
    "    fs, data = wavfile.read(A_folder_filt+fil)\n",
    "#     data = data[:120000]\n",
    "    f, t, P = signal.spectrogram(data, fs,window='hamming',nperseg=500,noverlap=250)\n",
    "    N = P.shape[1]\n",
    "    \n",
    "    #-----------------------------------------------------------------------------\n",
    "    # Calculating a block of triangle mel-filters\n",
    "    nfilt=40\n",
    "    low_freq_mel = 0\n",
    "    NFFT = len(f)\n",
    "    high_freq_mel = (2595 * np.log10(1 + (fs / 2) / 700))  \n",
    "    mel_points = np.linspace(low_freq_mel, high_freq_mel, nfilt + 2)  \n",
    "    hz_points = (700 * (10**(mel_points / 2595) - 1))  \n",
    "    bin = np.round(2 * NFFT * hz_points / fs)\n",
    "\n",
    "    fbank = np.zeros((nfilt, int(np.floor(NFFT))))\n",
    "\n",
    "    for m in range(1, nfilt + 1):\n",
    "        f_m_minus = int(bin[m - 1])   # left\n",
    "        f_m = int(bin[m])             # center\n",
    "        f_m_plus = int(bin[m + 1])    # right\n",
    "\n",
    "        for k in range(f_m_minus, f_m):\n",
    "            fbank[m - 1, k] = (k - bin[m - 1]) / (bin[m] - bin[m - 1])\n",
    "        for k in range(f_m, f_m_plus):\n",
    "            fbank[m - 1, k] = (bin[m + 1] - k) / (bin[m + 1] - bin[m])       \n",
    "    #------------------------------------------------------------------------------\n",
    "    filter_banks = np.dot(fbank,P)  \n",
    "    filter_banks = np.where(filter_banks == 0, np.finfo(float).eps, filter_banks)  # Numerical Stability\n",
    "    filter_banks = 20 * np.log10(filter_banks) \n",
    "    filter_banks = filter_banks - (np.mean(filter_banks, axis=1).reshape(-1,1) + 1e-8)\n",
    "    num_ceps = 14\n",
    "    mfc = filter_banks[1 : (num_ceps + 1),:] # select ony 14 first coeffs\n",
    "    \n",
    "    # Interpolationg to get coefficient matrix of certain shape\n",
    "    std_len = 512 # \"time\" lenght,m in n*m matrix\n",
    "    \n",
    "    x = np.arange(0,mfc.shape[1],1)\n",
    "    y = np.arange(0,mfc.shape[0],1)\n",
    "    f = interpolate.interp2d(x, y, mfc, kind='cubic')\n",
    "    xnew = np.arange(0,mfc.shape[1],mfc.shape[1]/std_len)\n",
    "    mfc_interp = f(xnew, y)\n",
    "    \n",
    "    # scaling to (0,1)\n",
    "    mfc_interp = scaler.fit_transform(mfc_interp)\n",
    "    \n",
    "    if i==0:\n",
    "        coefs = torch.FloatTensor(mfc_interp).unsqueeze(0)\n",
    "    else:\n",
    "        coefs = torch.cat((coefs,torch.FloatTensor(mfc_interp).unsqueeze(0)))\n",
    "    i+=1\n",
    "    \n",
    "labels = []\n",
    "for i in os.listdir(A_folder_filt):\n",
    "    if i[0]=='n':\n",
    "        labels.append(0)\n",
    "    elif i[0]=='m':\n",
    "        labels.append(1)\n",
    "#     elif i[0]=='e':\n",
    "#         labels.append(2)\n",
    "    else:\n",
    "        labels.append(2)\n",
    "\n",
    "# print(i)\n",
    "labels = torch.FloatTensor(np.array(labels).reshape(-1,1))"
   ]
  },
  {
   "cell_type": "markdown",
   "metadata": {},
   "source": [
    "# A bit of data augmentation"
   ]
  },
  {
   "cell_type": "code",
   "execution_count": 2,
   "metadata": {},
   "outputs": [],
   "source": [
    "def mel_ceps(data, fs, std_len=512): \n",
    "    f, t, P = signal.spectrogram(data, fs, window='hamming',nperseg=500,noverlap=250)\n",
    "    N = P.shape[1]\n",
    "\n",
    "    #-----------------------------------------------------------------------------\n",
    "    # Calculating a block of triangle mel-filters\n",
    "    nfilt=40\n",
    "    low_freq_mel = 0\n",
    "    NFFT = len(f)\n",
    "    high_freq_mel = (2595 * np.log10(1 + (fs / 2) / 700))  \n",
    "    mel_points = np.linspace(low_freq_mel, high_freq_mel, nfilt + 2)  \n",
    "    hz_points = (700 * (10**(mel_points / 2595) - 1))  \n",
    "    bin = np.round(2 * NFFT * hz_points / fs)\n",
    "\n",
    "    fbank = np.zeros((nfilt, int(np.floor(NFFT))))\n",
    "\n",
    "    for m in range(1, nfilt + 1):\n",
    "        f_m_minus = int(bin[m - 1])   # left\n",
    "        f_m = int(bin[m])             # center\n",
    "        f_m_plus = int(bin[m + 1])    # right\n",
    "\n",
    "        for k in range(f_m_minus, f_m):\n",
    "            fbank[m - 1, k] = (k - bin[m - 1]) / (bin[m] - bin[m - 1])\n",
    "        for k in range(f_m, f_m_plus):\n",
    "            fbank[m - 1, k] = (bin[m + 1] - k) / (bin[m + 1] - bin[m])       \n",
    "    #------------------------------------------------------------------------------\n",
    "    filter_banks = np.dot(fbank,P)  \n",
    "    filter_banks = np.where(filter_banks == 0, np.finfo(float).eps, filter_banks)  # Numerical Stability\n",
    "    filter_banks = 20 * np.log10(filter_banks) \n",
    "    filter_banks = filter_banks - (np.mean(filter_banks, axis=1).reshape(-1,1) + 1e-8)\n",
    "    num_ceps = 14\n",
    "    mfc = filter_banks[1 : (num_ceps + 1),:] # select ony 14 first coeffs\n",
    "\n",
    "    x = np.arange(0,mfc.shape[1],1)\n",
    "    y = np.arange(0,mfc.shape[0],1)\n",
    "    f = interpolate.interp2d(x, y, mfc, kind='cubic')\n",
    "    xnew = np.arange(0,mfc.shape[1],mfc.shape[1]/std_len)\n",
    "    mfc_interp = f(xnew, y)\n",
    "    \n",
    "    return mfc_interp"
   ]
  },
  {
   "cell_type": "code",
   "execution_count": 3,
   "metadata": {},
   "outputs": [],
   "source": [
    "coefs = []\n",
    "labels = []\n",
    "path = 'D:/Учеба/Технопарк/Heart/'\n",
    "A_folder_filt = path+'set_filt_2/'\n",
    "# A_folder_filt = path+'set_1/'\n",
    "\n",
    "i=True\n",
    "scaler = Normalizer(norm='max')\n",
    "for fil in os.listdir(A_folder_filt):\n",
    "    fs, data_in = wavfile.read(A_folder_filt+fil)\n",
    "    data = data_in[:120000]\n",
    "    \n",
    "    #original wav\n",
    "    mfc_interp = mel_ceps(data, fs)\n",
    "    if i:\n",
    "        coefs = torch.FloatTensor(mfc_interp).unsqueeze(0)\n",
    "        i=False\n",
    "    else:\n",
    "        coefs = torch.cat((coefs,torch.FloatTensor(mfc_interp).unsqueeze(0)))\n",
    "\n",
    "    # noised \n",
    "    noise_power = data.max() - data.mean()\n",
    "    data = data + np.random.normal(scale=np.sqrt(noise_power), size=data.shape)\n",
    "    mfc_interp = mel_ceps(data, fs)\n",
    "    \n",
    "    coefs = torch.cat((coefs,torch.FloatTensor(mfc_interp).unsqueeze(0)))\n",
    "    \n",
    "    # other part of initial signal\n",
    "    data = data_in[:160000]\n",
    "    mfc_interp = mel_ceps(data, fs)\n",
    "    \n",
    "    coefs = torch.cat((coefs,torch.FloatTensor(mfc_interp).unsqueeze(0)))\n",
    "\n",
    "    # other part of initial signal\n",
    "    data = data_in[:80000]\n",
    "    mfc_interp = mel_ceps(data, fs)\n",
    "    \n",
    "    coefs = torch.cat((coefs,torch.FloatTensor(mfc_interp).unsqueeze(0)))\n",
    "    \n",
    "    if fil[0]=='n':\n",
    "        labels.append(0)\n",
    "        labels.append(0)\n",
    "        labels.append(0)\n",
    "        labels.append(0)\n",
    "    elif fil[0]=='m':\n",
    "        labels.append(1)\n",
    "        labels.append(1)\n",
    "        labels.append(1)\n",
    "        labels.append(1)\n",
    "    elif fil[0]=='e':\n",
    "        labels.append(2)\n",
    "        labels.append(2)\n",
    "        labels.append(2)\n",
    "        labels.append(2)\n",
    "    else:\n",
    "        labels.append(3)\n",
    "        labels.append(3)\n",
    "        labels.append(3)\n",
    "        labels.append(3)\n",
    "    \n",
    "labels = torch.FloatTensor(np.array(labels).reshape(-1,1))"
   ]
  },
  {
   "cell_type": "markdown",
   "metadata": {},
   "source": [
    "# CONV"
   ]
  },
  {
   "cell_type": "code",
   "execution_count": 4,
   "metadata": {},
   "outputs": [],
   "source": [
    "r=torch.randperm(coefs.shape[0]) #шафлим\n",
    "X = coefs[r]\n",
    "y = labels.reshape(1,-1)[0][r]"
   ]
  },
  {
   "cell_type": "code",
   "execution_count": 5,
   "metadata": {},
   "outputs": [],
   "source": [
    "from sklearn.model_selection import train_test_split\n",
    "X = np.array(X)\n",
    "y = np.array(y)\n",
    "X_train, X_test, y_train, y_test = train_test_split(X, y, test_size=0.2)"
   ]
  },
  {
   "cell_type": "code",
   "execution_count": 6,
   "metadata": {},
   "outputs": [],
   "source": [
    "X_test, X_val, y_test, y_val = train_test_split(X_test, y_test, test_size=0.5)"
   ]
  },
  {
   "cell_type": "code",
   "execution_count": 7,
   "metadata": {},
   "outputs": [],
   "source": [
    "X_train = torch.FloatTensor(X_train)\n",
    "X_test = torch.FloatTensor(X_test)\n",
    "y_train = torch.LongTensor(y_train)\n",
    "y_test = torch.LongTensor(y_test)\n",
    "\n",
    "X_val = torch.FloatTensor(X_val)\n",
    "y_val = torch.LongTensor(y_val)\n",
    "\n",
    "X_train = X_train.unsqueeze(1).float()\n",
    "X_test = X_test.unsqueeze(1).float()\n",
    "X_val = X_val.unsqueeze(1).float()"
   ]
  },
  {
   "cell_type": "code",
   "execution_count": 8,
   "metadata": {},
   "outputs": [
    {
     "data": {
      "text/plain": [
       "torch.Size([1875, 1, 14, 512])"
      ]
     },
     "execution_count": 8,
     "metadata": {},
     "output_type": "execute_result"
    }
   ],
   "source": [
    "X_train.shape"
   ]
  },
  {
   "cell_type": "code",
   "execution_count": 9,
   "metadata": {},
   "outputs": [],
   "source": [
    "def train(net, X_train, y_train, X_test, y_test):\n",
    "    device = torch.device('cuda:0' if torch.cuda.is_available() else 'cpu')\n",
    "    net = net.to(device)\n",
    "    loss = torch.nn.CrossEntropyLoss()\n",
    "    optimizer = torch.optim.Adam(net.parameters(), lr=3.0e-4)\n",
    "    \n",
    "    batch_size = 20\n",
    "\n",
    "    test_accuracy_history = []\n",
    "    test_loss_history = []\n",
    "\n",
    "    X_test = X_test.to(device)\n",
    "    y_test = y_test.to(device)\n",
    "\n",
    "    for epoch in range(100):\n",
    "        order = np.random.permutation(len(X_train))\n",
    "        for start_index in range(0, len(X_train), batch_size):\n",
    "            optimizer.zero_grad()\n",
    "            net.train()\n",
    "\n",
    "            batch_indexes = order[start_index:start_index+batch_size]\n",
    "\n",
    "            X_batch = X_train[batch_indexes].to(device)\n",
    "            y_batch = y_train[batch_indexes].to(device)\n",
    "            preds = net.forward(X_batch)\n",
    "\n",
    "            loss_value = loss(preds, y_batch)\n",
    "            loss_value.backward()\n",
    "\n",
    "            optimizer.step()\n",
    "            \n",
    "            X_batch\n",
    "\n",
    "        net.eval()\n",
    "        test_preds = net.forward(X_test)\n",
    "        test_loss_history.append(loss(test_preds, y_test).data.cpu())\n",
    "\n",
    "        accuracy = (test_preds.argmax(dim=1) == y_test).float().mean().data.cpu()\n",
    "        test_accuracy_history.append(accuracy)\n",
    "\n",
    "        print(accuracy)\n",
    "#     del net\n",
    "    return test_accuracy_history, test_loss_history\n",
    "\n",
    "accuracies = {}\n",
    "losses = {}"
   ]
  },
  {
   "cell_type": "code",
   "execution_count": 10,
   "metadata": {},
   "outputs": [],
   "source": [
    "class HeartNet_Conv(torch.nn.Module):\n",
    "    def __init__(self,ch = [16,32,64,128]):\n",
    "        super(HeartNet_Conv, self).__init__()\n",
    "        \n",
    "        self.conv1a = torch.nn.Conv2d(1, ch[0], (3,13),padding = 1)\n",
    "        self.bn1a   = torch.nn.BatchNorm2d(num_features=ch[0])\n",
    "        self.act1a  = torch.nn.ReLU()\n",
    "        self.conv1b = torch.nn.Conv2d(ch[0], ch[0], (3,13),padding = 1)\n",
    "        self.bn1b   = torch.nn.BatchNorm2d(num_features=ch[0])\n",
    "        self.act1b  = torch.nn.ReLU()\n",
    "        # 14*1260   (-20 - 14*492)  \n",
    "        self.pool1 = torch.nn.MaxPool2d((1,3), stride=(1,3))\n",
    "        # 7*630*10    (/3 - 14*164)   \n",
    "\n",
    "        self.conv2a = torch.nn.Conv2d(ch[0], ch[1], (3,13),padding = 1)\n",
    "        self.bn2a   = torch.nn.BatchNorm2d(num_features=ch[1])\n",
    "        self.act2a  = torch.nn.ReLU()\n",
    "        self.conv2b = torch.nn.Conv2d(ch[1], ch[1], (3,13),padding = 1)\n",
    "        self.bn2b   = torch.nn.BatchNorm2d(num_features=ch[1])\n",
    "        self.act2b  = torch.nn.ReLU()\n",
    "        # 14*1260   (-20 - 14*144)  \n",
    "        self.pool2 = torch.nn.MaxPool2d((1,3), stride=(1,3))\n",
    "        # 7*630*10    (/3 - 14*48)\n",
    "\n",
    "        self.conv3a = torch.nn.Conv2d(ch[1], ch[2], (3,13),padding = 1)\n",
    "        self.bn3a   = torch.nn.BatchNorm2d(num_features=ch[2])\n",
    "        self.act3a  = torch.nn.ReLU()\n",
    "        self.conv3b = torch.nn.Conv2d(ch[2], ch[2], (3,13),padding = 1)\n",
    "        self.bn3b   = torch.nn.BatchNorm2d(num_features=ch[2])\n",
    "        self.act3b  = torch.nn.ReLU()\n",
    "        # 14*1260   (-20 - 14*28)  \n",
    "        self.pool3 = torch.nn.MaxPool2d((2,2), stride=(2,2))\n",
    "        # 7*630*10    (/2 - 7*14)\n",
    "        \n",
    "        self.conv4 = torch.nn.Conv2d(ch[2], ch[3], (4,7),padding = 1)\n",
    "        self.bn4   = torch.nn.BatchNorm2d(num_features=ch[3])\n",
    "        self.act4  = torch.nn.ReLU()\n",
    "        #            (-4 - 6*10)\n",
    "        self.pool4 = torch.nn.MaxPool2d((2,2), stride=(2,2))\n",
    "        #            (/2 - 3*5)\n",
    "        \n",
    "        self.fc1   = torch.nn.Linear(3 * 5 * ch[3],200)\n",
    "        self.act5  = torch.nn.ReLU()\n",
    "        \n",
    "        self.fc2   = torch.nn.Linear(200, 4)\n",
    "    \n",
    "    def forward(self, x):\n",
    "        \n",
    "        x = self.conv1a(x)\n",
    "        x = self.bn1a(x)\n",
    "        x = self.act1a(x)\n",
    "        x = self.conv1b(x)\n",
    "        x = self.bn1b(x)\n",
    "        x = self.act1b(x)\n",
    "        x = self.pool1(x)\n",
    "        \n",
    "        x = self.conv2a(x)\n",
    "        x = self.bn2a(x)\n",
    "        x = self.act2a(x)\n",
    "        x = self.conv2b(x)\n",
    "        x = self.bn2b(x)\n",
    "        x = self.act2b(x)\n",
    "        x = self.pool2(x)\n",
    "        \n",
    "        x = self.conv3a(x)\n",
    "        x = self.bn3a(x)\n",
    "        x = self.act3a(x)\n",
    "        x = self.conv3b(x)\n",
    "        x = self.bn3b(x)\n",
    "        x = self.act3b(x)\n",
    "        x = self.pool3(x)\n",
    "        \n",
    "        x = self.conv4(x)\n",
    "        x = self.bn4(x)\n",
    "        x = self.act4(x)\n",
    "        \n",
    "        x = self.pool4(x)\n",
    "        \n",
    "        x = x.view(x.size(0), x.size(1) * x.size(2) * x.size(3))\n",
    "        x = self.fc1(x)\n",
    "        x = self.act5(x)\n",
    "        \n",
    "        x = self.fc2(x)\n",
    "  \n",
    "        return x"
   ]
  },
  {
   "cell_type": "code",
   "execution_count": 12,
   "metadata": {},
   "outputs": [
    {
     "data": {
      "text/plain": [
       "925564"
      ]
     },
     "execution_count": 12,
     "metadata": {},
     "output_type": "execute_result"
    }
   ],
   "source": [
    "model_parameters = filter(lambda p: p.requires_grad, HeartNet_Conv().parameters())\n",
    "sum([np.prod(p.size()) for p in model_parameters])"
   ]
  },
  {
   "cell_type": "code",
   "execution_count": 11,
   "metadata": {},
   "outputs": [
    {
     "name": "stdout",
     "output_type": "stream",
     "text": [
      "tensor(0.6838)\n",
      "tensor(0.7650)\n",
      "tensor(0.6966)\n",
      "tensor(0.8248)\n",
      "tensor(0.8675)\n",
      "tensor(0.8889)\n",
      "tensor(0.8547)\n",
      "tensor(0.8504)\n",
      "tensor(0.8504)\n",
      "tensor(0.8889)\n",
      "tensor(0.9103)\n",
      "tensor(0.9145)\n",
      "tensor(0.9103)\n",
      "tensor(0.9145)\n",
      "tensor(0.9188)\n",
      "tensor(0.9145)\n",
      "tensor(0.9188)\n",
      "tensor(0.9145)\n",
      "tensor(0.9231)\n",
      "tensor(0.9145)\n",
      "tensor(0.9231)\n",
      "tensor(0.9188)\n",
      "tensor(0.9231)\n",
      "tensor(0.9188)\n",
      "tensor(0.9188)\n",
      "tensor(0.9188)\n",
      "tensor(0.9188)\n",
      "tensor(0.9145)\n",
      "tensor(0.9188)\n",
      "tensor(0.9188)\n",
      "tensor(0.9145)\n",
      "tensor(0.9188)\n",
      "tensor(0.9188)\n",
      "tensor(0.9231)\n",
      "tensor(0.9231)\n",
      "tensor(0.9145)\n",
      "tensor(0.9231)\n",
      "tensor(0.9231)\n",
      "tensor(0.9188)\n",
      "tensor(0.9231)\n",
      "tensor(0.9274)\n",
      "tensor(0.9231)\n",
      "tensor(0.9231)\n",
      "tensor(0.9231)\n",
      "tensor(0.9145)\n",
      "tensor(0.9188)\n",
      "tensor(0.9188)\n",
      "tensor(0.9188)\n",
      "tensor(0.9188)\n",
      "tensor(0.9188)\n",
      "tensor(0.9188)\n",
      "tensor(0.9231)\n",
      "tensor(0.9188)\n",
      "tensor(0.9145)\n",
      "tensor(0.9316)\n",
      "tensor(0.9188)\n",
      "tensor(0.6026)\n",
      "tensor(0.7821)\n",
      "tensor(0.8632)\n",
      "tensor(0.8846)\n",
      "tensor(0.9316)\n",
      "tensor(0.9188)\n",
      "tensor(0.9060)\n",
      "tensor(0.9060)\n",
      "tensor(0.9060)\n",
      "tensor(0.9274)\n",
      "tensor(0.9145)\n",
      "tensor(0.9231)\n",
      "tensor(0.9231)\n",
      "tensor(0.9231)\n",
      "tensor(0.9145)\n",
      "tensor(0.9231)\n",
      "tensor(0.9231)\n",
      "tensor(0.9274)\n",
      "tensor(0.9188)\n",
      "tensor(0.9188)\n",
      "tensor(0.9231)\n",
      "tensor(0.9274)\n",
      "tensor(0.9145)\n",
      "tensor(0.9145)\n",
      "tensor(0.9145)\n",
      "tensor(0.9188)\n",
      "tensor(0.9231)\n",
      "tensor(0.9188)\n",
      "tensor(0.9188)\n",
      "tensor(0.9274)\n",
      "tensor(0.9231)\n",
      "tensor(0.9188)\n",
      "tensor(0.9188)\n",
      "tensor(0.9231)\n",
      "tensor(0.9231)\n",
      "tensor(0.9359)\n",
      "tensor(0.9188)\n",
      "tensor(0.9145)\n",
      "tensor(0.9188)\n",
      "tensor(0.9188)\n",
      "tensor(0.9274)\n",
      "tensor(0.9359)\n",
      "tensor(0.9316)\n",
      "tensor(0.9231)\n"
     ]
    }
   ],
   "source": [
    "model = HeartNet_Conv()\n",
    "accuracies['cifar_net_80_no'], losses['cifar_net_80_no'] = \\\n",
    "    train(model, X_train, y_train, X_test, y_test)"
   ]
  },
  {
   "cell_type": "code",
   "execution_count": 13,
   "metadata": {
    "scrolled": false
   },
   "outputs": [
    {
     "data": {
      "image/png": "[encoded data removed]",
      "text/plain": [
       "<Figure size 1080x720 with 2 Axes>"
      ]
     },
     "metadata": {
      "needs_background": "light"
     },
     "output_type": "display_data"
    }
   ],
   "source": [
    "fig,(ax,bx) = plt.subplots(2,figsize=(15,10))\n",
    "for experiment_id in accuracies.keys():\n",
    "    ax.plot(accuracies[experiment_id], label=experiment_id)\n",
    "    ax.legend()\n",
    "    ax.set_title('Validation Accuracy');\n",
    "ax.grid()\n",
    "for experiment_id in accuracies.keys():\n",
    "    bx.plot(losses[experiment_id], label=experiment_id)\n",
    "    bx.legend()\n",
    "    bx.set_title('Validation Losses');\n",
    "bx.grid()"
   ]
  },
  {
   "cell_type": "code",
   "execution_count": 51,
   "metadata": {},
   "outputs": [
    {
     "data": {
      "text/plain": [
       "tensor(0.9245)"
      ]
     },
     "execution_count": 51,
     "metadata": {},
     "output_type": "execute_result"
    }
   ],
   "source": [
    "device = torch.device('cuda:0' if torch.cuda.is_available() else 'cpu')\n",
    "y_pred = model.forward(X_val.to(device)).argmax(dim=1)\n",
    "(y_pred.cpu() == y_val).float().mean().data"
   ]
  },
  {
   "cell_type": "code",
   "execution_count": 53,
   "metadata": {},
   "outputs": [
    {
     "data": {
      "text/plain": [
       "tensor([0, 0, 0, 1, 0, 2, 0, 0, 1, 0, 0, 0, 0, 0, 0, 0, 0, 0, 0, 0, 0, 0, 0, 0,\n",
       "        0, 0, 0, 1, 0, 1, 0, 0, 0, 0, 0, 0, 0, 0, 0, 1, 2, 2, 2, 0, 0, 0, 1, 0,\n",
       "        1, 0, 0, 0, 2], device='cuda:0')"
      ]
     },
     "execution_count": 53,
     "metadata": {},
     "output_type": "execute_result"
    }
   ],
   "source": [
    "y_pred"
   ]
  },
  {
   "cell_type": "code",
   "execution_count": 52,
   "metadata": {},
   "outputs": [
    {
     "data": {
      "text/plain": [
       "tensor([0, 1, 0, 1, 0, 2, 0, 0, 0, 0, 0, 0, 1, 0, 0, 0, 0, 0, 0, 0, 1, 0, 0, 0,\n",
       "        0, 0, 0, 1, 0, 1, 0, 0, 0, 0, 0, 0, 0, 0, 0, 1, 2, 2, 2, 0, 0, 0, 1, 0,\n",
       "        1, 0, 0, 0, 2])"
      ]
     },
     "execution_count": 52,
     "metadata": {},
     "output_type": "execute_result"
    }
   ],
   "source": [
    "y_val"
   ]
  },
  {
   "cell_type": "code",
   "execution_count": 358,
   "metadata": {
    "scrolled": true
   },
   "outputs": [
    {
     "data": {
      "text/plain": [
       "0.7792592592592592"
      ]
     },
     "execution_count": 358,
     "metadata": {},
     "output_type": "execute_result"
    }
   ],
   "source": [
    "recall_score(y_test.cpu().numpy(),y_pred.cpu(),average='macro')"
   ]
  },
  {
   "cell_type": "code",
   "execution_count": 81,
   "metadata": {},
   "outputs": [
    {
     "name": "stdout",
     "output_type": "stream",
     "text": [
      "Model's state_dict:\n",
      "conv1.weight \t torch.Size([10, 1, 3, 23])\n",
      "conv1.bias \t torch.Size([10])\n",
      "conv2.weight \t torch.Size([15, 10, 2, 11])\n",
      "conv2.bias \t torch.Size([15])\n",
      "conv3.weight \t torch.Size([20, 15, 3, 11])\n",
      "conv3.bias \t torch.Size([20])\n",
      "fc1.weight \t torch.Size([100, 2160])\n",
      "fc1.bias \t torch.Size([100])\n",
      "fc2.weight \t torch.Size([20, 100])\n",
      "fc2.bias \t torch.Size([20])\n",
      "fc3.weight \t torch.Size([4, 20])\n",
      "fc3.bias \t torch.Size([4])\n"
     ]
    }
   ],
   "source": [
    "#save\n",
    "# Print model's state_dict\n",
    "print(\"Model's state_dict:\")\n",
    "for param_tensor in heart_net_conv.state_dict():\n",
    "    print(param_tensor, \"\\t\", heart_net_conv.state_dict()[param_tensor].size())"
   ]
  },
  {
   "cell_type": "code",
   "execution_count": 82,
   "metadata": {},
   "outputs": [],
   "source": [
    "# Specify a path\n",
    "PATH = \"D:/Учеба/Технопарк/Heart/models/conv_nma_512.pt\"\n",
    "\n",
    "# Save\n",
    "torch.save(heart_net_conv.state_dict(), PATH)\n",
    "\n",
    "# Load\n",
    "# lenet5.load_state_dict(torch.load(PATH))\n",
    "# lenet5.eval()"
   ]
  },
  {
   "cell_type": "markdown",
   "metadata": {},
   "source": [
    "# HMM"
   ]
  },
  {
   "cell_type": "code",
   "execution_count": 82,
   "metadata": {},
   "outputs": [],
   "source": [
    "# Итак. Берем датасет мел кепстральных кэфов, выбираем оттуда только один два и три. Создаем модель, обучаем ее на 10 записях.\n",
    "# Создаем еще две, и их обучаем. Оставшиеся 3 пары тестим и смотрим на какой модели больше вероятность.\n",
    "\n",
    "#...fit(X)\n",
    "# X - Датасет по сути. Строки это фреймы, столбцы это фичи, то есть у нас будет 14-мерное признаковое пространство, и фазовая\n",
    "# траектория будет двигаться с течением времени. Единственная проблема - то, что начало слова/сердцебиения будет всегда в разное\n",
    "# время. Посему, остро стоит вопрос правильного определения начала\n",
    "\n",
    "# вроде че то работает, но надо проверить на жигулевском датасете\n",
    "\n",
    "# Видимо, для обучения у последовательностей не обязательно одинаковые длины!!!"
   ]
  },
  {
   "cell_type": "code",
   "execution_count": 21,
   "metadata": {},
   "outputs": [],
   "source": [
    "data = torch.load('D:/rech/VeriRu/words/dataset_conv_cepstr_96.pt')\n",
    "labels = torch.load('D:/rech/VeriRu/words/dataset_labels_cepstr_96.pt')"
   ]
  },
  {
   "cell_type": "code",
   "execution_count": 22,
   "metadata": {},
   "outputs": [],
   "source": [
    "X =data.numpy()\n",
    "y = labels.squeeze(dim=1).numpy()"
   ]
  },
  {
   "cell_type": "code",
   "execution_count": 23,
   "metadata": {},
   "outputs": [],
   "source": [
    "X0 = X[np.where(y==0)]\n",
    "X1 = X[np.where(y==1)]\n",
    "X2 = X[np.where(y==2)]\n",
    "X3 = X[np.where(y==3)]\n",
    "X4 = X[np.where(y==4)]\n",
    "X5 = X[np.where(y==5)]\n",
    "X6 = X[np.where(y==6)]\n",
    "X7 = X[np.where(y==7)]\n",
    "X8 = X[np.where(y==8)]\n",
    "X9 = X[np.where(y==9)]"
   ]
  },
  {
   "cell_type": "code",
   "execution_count": 24,
   "metadata": {},
   "outputs": [],
   "source": [
    "X0_train, X0_test = train_test_split(X0, test_size = 0.2)\n",
    "shape0 = [X0_train.shape[2],X0_train.shape[0]]\n",
    "\n",
    "X1_train, X1_test = train_test_split(X1, test_size = 0.2)\n",
    "shape1 = [X1_train.shape[2],X1_train.shape[0]]\n",
    "\n",
    "X2_train, X2_test = train_test_split(X2, test_size = 0.2)\n",
    "shape2 = [X2_train.shape[2],X2_train.shape[0]]\n",
    "\n",
    "X3_train, X3_test = train_test_split(X3, test_size = 0.2)\n",
    "shape3 = [X3_train.shape[2],X3_train.shape[0]]\n",
    "\n",
    "X4_train, X4_test = train_test_split(X4, test_size = 0.2)\n",
    "shape4 = [X4_train.shape[2],X4_train.shape[0]]\n",
    "\n",
    "X5_train, X5_test = train_test_split(X5, test_size = 0.2)\n",
    "shape5 = [X5_train.shape[2],X5_train.shape[0]]\n",
    "\n",
    "X6_train, X6_test = train_test_split(X6, test_size = 0.2)\n",
    "shape6 = [X6_train.shape[2],X6_train.shape[0]]\n",
    "\n",
    "X7_train, X7_test = train_test_split(X7, test_size = 0.2)\n",
    "shape7 = [X7_train.shape[2],X7_train.shape[0]]\n",
    "\n",
    "X8_train, X8_test = train_test_split(X8, test_size = 0.2)\n",
    "shape8 = [X8_train.shape[2],X8_train.shape[0]]\n",
    "\n",
    "X9_train, X9_test = train_test_split(X9, test_size = 0.2)\n",
    "shape9 = [X9_train.shape[2],X9_train.shape[0]]"
   ]
  },
  {
   "cell_type": "code",
   "execution_count": 25,
   "metadata": {},
   "outputs": [],
   "source": [
    "model0 = hmm.GaussianHMM(n_components=12, covariance_type=\"full\",n_iter=100)\n",
    "model1 = hmm.GaussianHMM(n_components=12, covariance_type=\"full\",n_iter=100)\n",
    "model2 = hmm.GaussianHMM(n_components=12, covariance_type=\"full\",n_iter=100)\n",
    "model3 = hmm.GaussianHMM(n_components=12, covariance_type=\"full\",n_iter=100)\n",
    "model4 = hmm.GaussianHMM(n_components=12, covariance_type=\"full\",n_iter=100)\n",
    "model5 = hmm.GaussianHMM(n_components=12, covariance_type=\"full\",n_iter=100)\n",
    "model6 = hmm.GaussianHMM(n_components=12, covariance_type=\"full\",n_iter=100)\n",
    "model7 = hmm.GaussianHMM(n_components=12, covariance_type=\"full\",n_iter=100)\n",
    "model8 = hmm.GaussianHMM(n_components=12, covariance_type=\"full\",n_iter=100)\n",
    "model9 = hmm.GaussianHMM(n_components=12, covariance_type=\"full\",n_iter=100)"
   ]
  },
  {
   "cell_type": "code",
   "execution_count": 26,
   "metadata": {},
   "outputs": [],
   "source": [
    "# Транспонируем матрицы как надо для СММ\n",
    "X0_train = X0_train.transpose(0,2,1).reshape(-1,X0_train.shape[1]) # (обучающие_выборки*фреймы , фичи)\n",
    "X1_train = X1_train.transpose(0,2,1).reshape(-1,X1_train.shape[1]) \n",
    "X2_train = X2_train.transpose(0,2,1).reshape(-1,X2_train.shape[1]) \n",
    "X3_train = X3_train.transpose(0,2,1).reshape(-1,X3_train.shape[1]) \n",
    "X4_train = X4_train.transpose(0,2,1).reshape(-1,X4_train.shape[1]) \n",
    "X5_train = X5_train.transpose(0,2,1).reshape(-1,X5_train.shape[1]) \n",
    "X6_train = X6_train.transpose(0,2,1).reshape(-1,X6_train.shape[1]) \n",
    "X7_train = X7_train.transpose(0,2,1).reshape(-1,X7_train.shape[1])\n",
    "X8_train = X8_train.transpose(0,2,1).reshape(-1,X8_train.shape[1]) \n",
    "X9_train = X9_train.transpose(0,2,1).reshape(-1,X9_train.shape[1]) \n",
    "\n",
    "# Длины последовательностей - [длина фреймов]*количество последоваетльностей, так как тут фреймы одной длины\n",
    "length0 =[shape0[0]]*shape0[1]\n",
    "length1 =[shape1[0]]*shape1[1]\n",
    "length2 =[shape2[0]]*shape2[1]\n",
    "length3 =[shape3[0]]*shape3[1]\n",
    "length4 =[shape4[0]]*shape4[1]\n",
    "length5 =[shape5[0]]*shape5[1]\n",
    "length6 =[shape6[0]]*shape6[1]\n",
    "length7 =[shape7[0]]*shape7[1]\n",
    "length8 =[shape8[0]]*shape8[1]\n",
    "length9 =[shape9[0]]*shape9[1]"
   ]
  },
  {
   "cell_type": "code",
   "execution_count": 27,
   "metadata": {},
   "outputs": [
    {
     "name": "stdout",
     "output_type": "stream",
     "text": [
      "0\n",
      "1\n",
      "2\n",
      "3\n",
      "4\n",
      "5\n",
      "6\n",
      "7\n",
      "8\n",
      "9\n"
     ]
    },
    {
     "ename": "TypeError",
     "evalue": "__init__() got multiple values for argument 'file'",
     "output_type": "error",
     "traceback": [
      "\u001b[1;31m---------------------------------------------------------------------------\u001b[0m",
      "\u001b[1;31mTypeError\u001b[0m                                 Traceback (most recent call last)",
      "\u001b[1;32m<ipython-input-27-953c3ab964f0>\u001b[0m in \u001b[0;36m<module>\u001b[1;34m\u001b[0m\n\u001b[0;32m     28\u001b[0m \u001b[1;33m\u001b[0m\u001b[0m\n\u001b[0;32m     29\u001b[0m \u001b[0mmodel9\u001b[0m\u001b[1;33m.\u001b[0m\u001b[0mfit\u001b[0m\u001b[1;33m(\u001b[0m\u001b[0mX9_train\u001b[0m\u001b[1;33m,\u001b[0m\u001b[0mlength9\u001b[0m\u001b[1;33m)\u001b[0m\u001b[1;33m,\u001b[0m\u001b[1;33m\u001b[0m\u001b[1;33m\u001b[0m\u001b[0m\n\u001b[1;32m---> 30\u001b[1;33m \u001b[0mprint\u001b[0m\u001b[1;33m(\u001b[0m\u001b[1;36m9\u001b[0m\u001b[1;33m)\u001b[0m\u001b[1;33m\u001b[0m\u001b[1;33m\u001b[0m\u001b[0m\n\u001b[0m\u001b[0;32m     31\u001b[0m )\n",
      "\u001b[1;32mD:\\Progi\\Anaconda\\lib\\site-packages\\tqdm\\notebook.py\u001b[0m in \u001b[0;36m__init__\u001b[1;34m(self, *args, **kwargs)\u001b[0m\n\u001b[0;32m    218\u001b[0m         \u001b[0mcolour\u001b[0m \u001b[1;33m=\u001b[0m \u001b[0mkwargs\u001b[0m\u001b[1;33m.\u001b[0m\u001b[0mpop\u001b[0m\u001b[1;33m(\u001b[0m\u001b[1;34m'colour'\u001b[0m\u001b[1;33m,\u001b[0m \u001b[1;32mNone\u001b[0m\u001b[1;33m)\u001b[0m\u001b[1;33m\u001b[0m\u001b[1;33m\u001b[0m\u001b[0m\n\u001b[0;32m    219\u001b[0m         \u001b[0mdisplay_here\u001b[0m \u001b[1;33m=\u001b[0m \u001b[0mkwargs\u001b[0m\u001b[1;33m.\u001b[0m\u001b[0mpop\u001b[0m\u001b[1;33m(\u001b[0m\u001b[1;34m'display'\u001b[0m\u001b[1;33m,\u001b[0m \u001b[1;32mTrue\u001b[0m\u001b[1;33m)\u001b[0m\u001b[1;33m\u001b[0m\u001b[1;33m\u001b[0m\u001b[0m\n\u001b[1;32m--> 220\u001b[1;33m         \u001b[0msuper\u001b[0m\u001b[1;33m(\u001b[0m\u001b[0mtqdm_notebook\u001b[0m\u001b[1;33m,\u001b[0m \u001b[0mself\u001b[0m\u001b[1;33m)\u001b[0m\u001b[1;33m.\u001b[0m\u001b[0m__init__\u001b[0m\u001b[1;33m(\u001b[0m\u001b[1;33m*\u001b[0m\u001b[0margs\u001b[0m\u001b[1;33m,\u001b[0m \u001b[1;33m**\u001b[0m\u001b[0mkwargs\u001b[0m\u001b[1;33m)\u001b[0m\u001b[1;33m\u001b[0m\u001b[1;33m\u001b[0m\u001b[0m\n\u001b[0m\u001b[0;32m    221\u001b[0m         \u001b[1;32mif\u001b[0m \u001b[0mself\u001b[0m\u001b[1;33m.\u001b[0m\u001b[0mdisable\u001b[0m \u001b[1;32mor\u001b[0m \u001b[1;32mnot\u001b[0m \u001b[0mkwargs\u001b[0m\u001b[1;33m[\u001b[0m\u001b[1;34m'gui'\u001b[0m\u001b[1;33m]\u001b[0m\u001b[1;33m:\u001b[0m\u001b[1;33m\u001b[0m\u001b[1;33m\u001b[0m\u001b[0m\n\u001b[0;32m    222\u001b[0m             \u001b[0mself\u001b[0m\u001b[1;33m.\u001b[0m\u001b[0msp\u001b[0m \u001b[1;33m=\u001b[0m \u001b[1;32mlambda\u001b[0m \u001b[1;33m*\u001b[0m\u001b[0m_\u001b[0m\u001b[1;33m,\u001b[0m \u001b[1;33m**\u001b[0m\u001b[0m__\u001b[0m\u001b[1;33m:\u001b[0m \u001b[1;32mNone\u001b[0m\u001b[1;33m\u001b[0m\u001b[1;33m\u001b[0m\u001b[0m\n",
      "\u001b[1;31mTypeError\u001b[0m: __init__() got multiple values for argument 'file'"
     ]
    }
   ],
   "source": [
    "model0.fit(X0_train,length0),\n",
    "print(0),\n",
    "\n",
    "model1.fit(X1_train,length1),\n",
    "print(1),\n",
    "\n",
    "model2.fit(X2_train,length2),\n",
    "print(2),\n",
    "\n",
    "model3.fit(X3_train,length3),\n",
    "print(3),\n",
    "\n",
    "model4.fit(X4_train,length4),\n",
    "print(4),\n",
    "\n",
    "model5.fit(X5_train,length5),\n",
    "print(5),\n",
    "\n",
    "model6.fit(X6_train,length6),\n",
    "print(6),\n",
    "\n",
    "model7.fit(X7_train,length7),\n",
    "print(7),\n",
    "\n",
    "model8.fit(X8_train,length8),\n",
    "print(8),\n",
    "\n",
    "model9.fit(X9_train,length9),\n",
    "print(9)"
   ]
  },
  {
   "cell_type": "code",
   "execution_count": 37,
   "metadata": {},
   "outputs": [
    {
     "name": "stderr",
     "output_type": "stream",
     "text": [
      "Exception ignored in: <function tqdm.__del__ at 0x000002559BC1CC18>\n",
      "Traceback (most recent call last):\n",
      "  File \"D:\\Progi\\Anaconda\\lib\\site-packages\\tqdm\\std.py\", line 1124, in __del__\n",
      "    self.close()\n",
      "  File \"D:\\Progi\\Anaconda\\lib\\site-packages\\tqdm\\notebook.py\", line 267, in close\n",
      "    super(tqdm_notebook, self).close(*args, **kwargs)\n",
      "  File \"D:\\Progi\\Anaconda\\lib\\site-packages\\tqdm\\std.py\", line 1306, in close\n",
      "    if self.disable:\n",
      "AttributeError: 'tqdm_notebook' object has no attribute 'disable'\n"
     ]
    },
    {
     "name": "stdout",
     "output_type": "stream",
     "text": [
      "0 score: -4405.418626216825 \n",
      " 1 score: -4643.930653584556 \n",
      " 2 score: -4583.746014216346 \n",
      " 3 score: -4590.945948170596 \n",
      " 4 score: -4712.396580437856 \n",
      " 5 score: -4671.2361598895695 \n",
      " 6 score: -4817.48493188922 \n",
      " 7 score: -4581.182178289438 \n",
      " 8 score: -4538.282686437117 \n",
      " 9 score: -4620.5932540264375\n"
     ]
    }
   ],
   "source": [
    "S = np.zeros(10)\n",
    "n = 200\n",
    "for i in range(n):\n",
    "    S[0] = S[0] + model0.score(X0_test[i].T)\n",
    "    S[1] = S[1] + model0.score(X1_test[i].T)\n",
    "    S[2] = S[2] + model0.score(X2_test[i].T)\n",
    "    S[3] = S[3] + model0.score(X3_test[i].T)\n",
    "    S[4] = S[4] + model0.score(X4_test[i].T)\n",
    "    S[5] = S[5] + model0.score(X5_test[i].T)\n",
    "    S[6] = S[6] + model0.score(X6_test[i].T)\n",
    "    S[7] = S[7] + model0.score(X7_test[i].T)\n",
    "    S[8] = S[8] + model0.score(X8_test[i].T)\n",
    "    S[9] = S[9] + model0.score(X9_test[i].T)\n",
    "print('0 score:',S[0] / n,\n",
    "      '\\n 1 score:',S[1] / n,\n",
    "      '\\n 2 score:',S[2] / n,\n",
    "      '\\n 3 score:',S[3] / n,\n",
    "      '\\n 4 score:',S[4] / n,\n",
    "      '\\n 5 score:',S[5] / n,\n",
    "      '\\n 6 score:',S[6] / n,\n",
    "      '\\n 7 score:',S[7] / n,\n",
    "      '\\n 8 score:',S[8] / n,\n",
    "      '\\n 9 score:',S[9] / n)"
   ]
  },
  {
   "cell_type": "code",
   "execution_count": 56,
   "metadata": {},
   "outputs": [
    {
     "name": "stdout",
     "output_type": "stream",
     "text": [
      "0 score: -4053.6711788240577 \n",
      " 1 score: -5233.519843116692 \n",
      " 2 score: -5095.626918841528 \n",
      " 3 score: -4886.262462603151 \n",
      " 4 score: -5179.940290229123 \n",
      " 5 score: -5285.0868089913565 \n",
      " 6 score: -5426.792180607477 \n",
      " 7 score: -5029.698223254798 \n",
      " 8 score: -4916.1423450013435 \n",
      " 9 score: -5073.756169691856\n"
     ]
    }
   ],
   "source": [
    "S = np.zeros((10,200))\n",
    "n = 200\n",
    "for i in range(n):\n",
    "    S[0,i] = model0.score(X0_test[i].T)\n",
    "    S[1,i] = model0.score(X1_test[i].T)\n",
    "    S[2,i] = model0.score(X2_test[i].T)\n",
    "    S[3,i] = model0.score(X3_test[i].T)\n",
    "    S[4,i] = model0.score(X4_test[i].T)\n",
    "    S[5,i] = model0.score(X5_test[i].T)\n",
    "    S[6,i] = model0.score(X6_test[i].T)\n",
    "    S[7,i] = model0.score(X7_test[i].T)\n",
    "    S[8,i] = model0.score(X8_test[i].T)\n",
    "    S[9,i] = model0.score(X9_test[i].T)\n",
    "print('0 score:',S[0].max(),\n",
    "      '\\n 1 score:',S[1].min(),\n",
    "      '\\n 2 score:',S[2].min(),\n",
    "      '\\n 3 score:',S[3].min(),\n",
    "      '\\n 4 score:',S[4].min(),\n",
    "      '\\n 5 score:',S[5].min(),\n",
    "      '\\n 6 score:',S[6].min(),\n",
    "      '\\n 7 score:',S[7].min(),\n",
    "      '\\n 8 score:',S[8].min(),\n",
    "      '\\n 9 score:',S[9].min())"
   ]
  },
  {
   "cell_type": "markdown",
   "metadata": {},
   "source": [
    "# Тест"
   ]
  },
  {
   "cell_type": "code",
   "execution_count": 177,
   "metadata": {},
   "outputs": [],
   "source": [
    "data = torch.load('D:/rech/datasets/voice_numbers_conv_mel.pt')\n",
    "labels = torch.load('D:/rech/conv_labels.pt')"
   ]
  },
  {
   "cell_type": "code",
   "execution_count": 178,
   "metadata": {},
   "outputs": [],
   "source": [
    "from hmmlearn import hmm\n",
    "X =data[:36].numpy()\n",
    "y = labels[:36].numpy()"
   ]
  },
  {
   "cell_type": "code",
   "execution_count": 179,
   "metadata": {},
   "outputs": [],
   "source": [
    "X1 = X[:12]\n",
    "y1 = y[:12]\n",
    "X2 = X[12:24]\n",
    "y2 = y[12:24]\n",
    "X3 = X[24:36]\n",
    "y3 = y[24:36]"
   ]
  },
  {
   "cell_type": "code",
   "execution_count": 180,
   "metadata": {},
   "outputs": [
    {
     "data": {
      "text/plain": [
       "(3, 14, 90)"
      ]
     },
     "execution_count": 180,
     "metadata": {},
     "output_type": "execute_result"
    }
   ],
   "source": [
    "X1[9:].shape"
   ]
  },
  {
   "cell_type": "code",
   "execution_count": 181,
   "metadata": {},
   "outputs": [],
   "source": [
    "# X1_train, X1_test, y1_train, y1_test = train_test_split(X1, y1, test_size = 0.2)\n",
    "# X2_train, X2_test, y2_train, y2_test = train_test_split(X2, y2, test_size = 0.2)\n",
    "# X3_train, X3_test, y3_train, y3_test = train_test_split(X3, y3, test_size = 0.2)\n",
    "# n=12\n",
    "\n",
    "X1_train = X1[:9]\n",
    "X1_test  = X1[9:]\n",
    "\n",
    "X2_train = X2[:9]\n",
    "X2_test  = X2[9:]\n",
    "\n",
    "X3_train = X3[:9]\n",
    "X3_test  = X3[9:]\n",
    "n=3"
   ]
  },
  {
   "cell_type": "code",
   "execution_count": 182,
   "metadata": {},
   "outputs": [],
   "source": [
    "np.random.seed(42)\n",
    "\n",
    "model1 = hmm.GaussianHMM(n_components=10, covariance_type=\"full\",n_iter=100)\n",
    "model2 = hmm.GaussianHMM(n_components=10, covariance_type=\"full\",n_iter=100)\n",
    "model3 = hmm.GaussianHMM(n_components=10, covariance_type=\"full\",n_iter=100)"
   ]
  },
  {
   "cell_type": "code",
   "execution_count": 183,
   "metadata": {},
   "outputs": [],
   "source": [
    "# Транспонируем матрицы как надо для СММ\n",
    "X1_train = X1_train.transpose(0,2,1).reshape(-1,X1_train.shape[1]) # (обучающие_выборки*фреймы , фичи)\n",
    "X2_train = X2_train.transpose(0,2,1).reshape(-1,X2_train.shape[1]) # (обучающие_выборки*фреймы , фичи)\n",
    "X3_train = X3_train.transpose(0,2,1).reshape(-1,X3_train.shape[1]) # (обучающие_выборки*фреймы , фичи)\n",
    "\n",
    "length =[90]*9"
   ]
  },
  {
   "cell_type": "code",
   "execution_count": 184,
   "metadata": {},
   "outputs": [],
   "source": [
    "# Транспонируем матрицы как надо для СММ\n",
    "# X1_train = X1_train.reshape(-1,X1_train.shape[2]).T # (обучающие_выборки*фреймы , фичи)\n",
    "# X2_train = X2_train.reshape(-1,X2_train.shape[2]).T # (обучающие_выборки*фреймы , фичи)\n",
    "# X3_train = X3_train.reshape(-1,X3_train.shape[2]).T # (обучающие_выборки*фреймы , фичи)\n",
    "\n",
    "# length =[14]*9"
   ]
  },
  {
   "cell_type": "code",
   "execution_count": 174,
   "metadata": {},
   "outputs": [
    {
     "data": {
      "text/plain": [
       "(90, 126)"
      ]
     },
     "execution_count": 174,
     "metadata": {},
     "output_type": "execute_result"
    }
   ],
   "source": [
    "X1_train.shape"
   ]
  },
  {
   "cell_type": "code",
   "execution_count": 186,
   "metadata": {
    "collapsed": true
   },
   "outputs": [
    {
     "name": "stderr",
     "output_type": "stream",
     "text": [
      "Fitting a model with 81369 free scalar parameters with only 11340 data points will result in a degenerate solution.\n"
     ]
    },
    {
     "ename": "ValueError",
     "evalue": "more than 90 samples in lengths array [[14], [14], [14], [14], [14], [14], [14], [14], [14]]",
     "output_type": "error",
     "traceback": [
      "\u001b[1;31m---------------------------------------------------------------------------\u001b[0m",
      "\u001b[1;31mValueError\u001b[0m                                Traceback (most recent call last)",
      "\u001b[1;32m<ipython-input-186-629ed9ec5994>\u001b[0m in \u001b[0;36m<module>\u001b[1;34m\u001b[0m\n\u001b[1;32m----> 1\u001b[1;33m \u001b[0mmodel1\u001b[0m\u001b[1;33m.\u001b[0m\u001b[0mfit\u001b[0m\u001b[1;33m(\u001b[0m\u001b[0mX1_train\u001b[0m\u001b[1;33m,\u001b[0m\u001b[0mlength\u001b[0m\u001b[1;33m)\u001b[0m\u001b[1;33m\u001b[0m\u001b[1;33m\u001b[0m\u001b[0m\n\u001b[0m\u001b[0;32m      2\u001b[0m \u001b[0mmodel2\u001b[0m\u001b[1;33m.\u001b[0m\u001b[0mfit\u001b[0m\u001b[1;33m(\u001b[0m\u001b[0mX2_train\u001b[0m\u001b[1;33m,\u001b[0m\u001b[0mlength\u001b[0m\u001b[1;33m)\u001b[0m\u001b[1;33m\u001b[0m\u001b[1;33m\u001b[0m\u001b[0m\n\u001b[0;32m      3\u001b[0m \u001b[0mmodel3\u001b[0m\u001b[1;33m.\u001b[0m\u001b[0mfit\u001b[0m\u001b[1;33m(\u001b[0m\u001b[0mX3_train\u001b[0m\u001b[1;33m,\u001b[0m\u001b[0mlength\u001b[0m\u001b[1;33m)\u001b[0m\u001b[1;33m\u001b[0m\u001b[1;33m\u001b[0m\u001b[0m\n",
      "\u001b[1;32mD:\\Progi\\Anaconda\\lib\\site-packages\\hmmlearn\\base.py\u001b[0m in \u001b[0;36mfit\u001b[1;34m(self, X, lengths)\u001b[0m\n\u001b[0;32m    467\u001b[0m             \u001b[0mstats\u001b[0m \u001b[1;33m=\u001b[0m \u001b[0mself\u001b[0m\u001b[1;33m.\u001b[0m\u001b[0m_initialize_sufficient_statistics\u001b[0m\u001b[1;33m(\u001b[0m\u001b[1;33m)\u001b[0m\u001b[1;33m\u001b[0m\u001b[1;33m\u001b[0m\u001b[0m\n\u001b[0;32m    468\u001b[0m             \u001b[0mcurr_logprob\u001b[0m \u001b[1;33m=\u001b[0m \u001b[1;36m0\u001b[0m\u001b[1;33m\u001b[0m\u001b[1;33m\u001b[0m\u001b[0m\n\u001b[1;32m--> 469\u001b[1;33m             \u001b[1;32mfor\u001b[0m \u001b[0mi\u001b[0m\u001b[1;33m,\u001b[0m \u001b[0mj\u001b[0m \u001b[1;32min\u001b[0m \u001b[0miter_from_X_lengths\u001b[0m\u001b[1;33m(\u001b[0m\u001b[0mX\u001b[0m\u001b[1;33m,\u001b[0m \u001b[0mlengths\u001b[0m\u001b[1;33m)\u001b[0m\u001b[1;33m:\u001b[0m\u001b[1;33m\u001b[0m\u001b[1;33m\u001b[0m\u001b[0m\n\u001b[0m\u001b[0;32m    470\u001b[0m                 \u001b[0mframelogprob\u001b[0m \u001b[1;33m=\u001b[0m \u001b[0mself\u001b[0m\u001b[1;33m.\u001b[0m\u001b[0m_compute_log_likelihood\u001b[0m\u001b[1;33m(\u001b[0m\u001b[0mX\u001b[0m\u001b[1;33m[\u001b[0m\u001b[0mi\u001b[0m\u001b[1;33m:\u001b[0m\u001b[0mj\u001b[0m\u001b[1;33m]\u001b[0m\u001b[1;33m)\u001b[0m\u001b[1;33m\u001b[0m\u001b[1;33m\u001b[0m\u001b[0m\n\u001b[0;32m    471\u001b[0m                 \u001b[0mlogprob\u001b[0m\u001b[1;33m,\u001b[0m \u001b[0mfwdlattice\u001b[0m \u001b[1;33m=\u001b[0m \u001b[0mself\u001b[0m\u001b[1;33m.\u001b[0m\u001b[0m_do_forward_pass\u001b[0m\u001b[1;33m(\u001b[0m\u001b[0mframelogprob\u001b[0m\u001b[1;33m)\u001b[0m\u001b[1;33m\u001b[0m\u001b[1;33m\u001b[0m\u001b[0m\n",
      "\u001b[1;32mD:\\Progi\\Anaconda\\lib\\site-packages\\hmmlearn\\utils.py\u001b[0m in \u001b[0;36miter_from_X_lengths\u001b[1;34m(X, lengths)\u001b[0m\n\u001b[0;32m     65\u001b[0m         \u001b[1;32mif\u001b[0m \u001b[0mend\u001b[0m\u001b[1;33m[\u001b[0m\u001b[1;33m-\u001b[0m\u001b[1;36m1\u001b[0m\u001b[1;33m]\u001b[0m \u001b[1;33m>\u001b[0m \u001b[0mn_samples\u001b[0m\u001b[1;33m:\u001b[0m\u001b[1;33m\u001b[0m\u001b[1;33m\u001b[0m\u001b[0m\n\u001b[0;32m     66\u001b[0m             raise ValueError(\"more than {:d} samples in lengths array {!s}\"\n\u001b[1;32m---> 67\u001b[1;33m                              .format(n_samples, lengths))\n\u001b[0m\u001b[0;32m     68\u001b[0m \u001b[1;33m\u001b[0m\u001b[0m\n\u001b[0;32m     69\u001b[0m         \u001b[1;32mfor\u001b[0m \u001b[0mi\u001b[0m \u001b[1;32min\u001b[0m \u001b[0mrange\u001b[0m\u001b[1;33m(\u001b[0m\u001b[0mlen\u001b[0m\u001b[1;33m(\u001b[0m\u001b[0mlengths\u001b[0m\u001b[1;33m)\u001b[0m\u001b[1;33m)\u001b[0m\u001b[1;33m:\u001b[0m\u001b[1;33m\u001b[0m\u001b[1;33m\u001b[0m\u001b[0m\n",
      "\u001b[1;31mValueError\u001b[0m: more than 90 samples in lengths array [[14], [14], [14], [14], [14], [14], [14], [14], [14]]"
     ]
    }
   ],
   "source": [
    "model1.fit(X1_train,length)\n",
    "model2.fit(X2_train,length)\n",
    "model3.fit(X3_train,length)"
   ]
  },
  {
   "cell_type": "code",
   "execution_count": 95,
   "metadata": {},
   "outputs": [
    {
     "data": {
      "text/plain": [
       "(126, 90)"
      ]
     },
     "execution_count": 95,
     "metadata": {},
     "output_type": "execute_result"
    }
   ],
   "source": [
    "X1_train.shape"
   ]
  },
  {
   "cell_type": "code",
   "execution_count": 105,
   "metadata": {},
   "outputs": [
    {
     "data": {
      "text/plain": [
       "(14, 90)"
      ]
     },
     "execution_count": 105,
     "metadata": {},
     "output_type": "execute_result"
    }
   ],
   "source": [
    "X1_test[1].shape"
   ]
  },
  {
   "cell_type": "code",
   "execution_count": 107,
   "metadata": {},
   "outputs": [
    {
     "name": "stdout",
     "output_type": "stream",
     "text": [
      "-136895972239.08183 \n",
      " -348069620778.3495 \n",
      " -260060883034.8185\n"
     ]
    }
   ],
   "source": [
    "S1 = 0\n",
    "S2 = 0\n",
    "S3 = 0\n",
    "for i in range(n):\n",
    "    S1 = S1 + model1.score(X1_test[i])\n",
    "    S2 = S2 + model1.score(X2_test[i])\n",
    "    S3 = S3 + model1.score(X3_test[i])\n",
    "print(S1 / 12,'\\n',S2 / 12,'\\n',S3 / 12)"
   ]
  },
  {
   "cell_type": "code",
   "execution_count": 108,
   "metadata": {},
   "outputs": [
    {
     "name": "stdout",
     "output_type": "stream",
     "text": [
      "-413910794621.0339 \n",
      " -189083907338.83542 \n",
      " -175377421978.36353\n"
     ]
    }
   ],
   "source": [
    "S1 = 0\n",
    "S2 = 0\n",
    "S3 = 0\n",
    "for i in range(n):\n",
    "    S1 = S1 + model2.score(X1_test[i])\n",
    "    S2 = S2 + model2.score(X2_test[i])\n",
    "    S3 = S3 + model2.score(X3_test[i])\n",
    "print(S1 / 12,'\\n',S2 / 12,'\\n',S3 / 12)"
   ]
  },
  {
   "cell_type": "code",
   "execution_count": 109,
   "metadata": {},
   "outputs": [
    {
     "name": "stdout",
     "output_type": "stream",
     "text": [
      "-413565864016.1707 \n",
      " -577048260979.1948 \n",
      " -106077989979.94275\n"
     ]
    }
   ],
   "source": [
    "S1 = 0\n",
    "S2 = 0\n",
    "S3 = 0\n",
    "for i in range(n):\n",
    "    S1 = S1 + model3.score(X1_test[i])\n",
    "    S2 = S2 + model3.score(X2_test[i])\n",
    "    S3 = S3 + model3.score(X3_test[i])\n",
    "print(S1 / 12,'\\n',S2 / 12,'\\n',S3 / 12)"
   ]
  },
  {
   "cell_type": "markdown",
   "metadata": {},
   "source": [
    "# Тож тест"
   ]
  },
  {
   "cell_type": "markdown",
   "metadata": {},
   "source": [
    "Все нормально, модель работает правильно"
   ]
  },
  {
   "cell_type": "code",
   "execution_count": 131,
   "metadata": {},
   "outputs": [],
   "source": [
    "X1 = np.array([[[3,2,1,2,3],\n",
    "                [4,3,2,3,4],\n",
    "                [5,4,3,4,5],\n",
    "                [6,5,4,5,6]],\n",
    "               [[3,2,1.5,2,3],\n",
    "                [4,3,2.2,3,4],\n",
    "                [5,3.8,3,4,5],\n",
    "                [6,5,4,4.9,6]],\n",
    "               [[3.3,2,1.3,2,3],\n",
    "                [3.6,3,2.2,3,4],\n",
    "                [5,4.2,3,4,5],\n",
    "                [6,5,4,4.9,5.9]],\n",
    "                ])\n",
    "X2 = np.array([[[1,2,3,4,5],\n",
    "               [1,1,2,4,5],\n",
    "               [2,3,4,5,6],\n",
    "               [1,2.3,3.4,5,6]] \n",
    "              ])\n",
    "\n",
    "X3 = np.array([[[3.1,2,1.1,2.2,3],\n",
    "               [4.1,3,2.1,3,4],\n",
    "               [5,4,3,4,5],\n",
    "               [6.2,5.1,4,5,6]],\n",
    "               [[3.1,2,1.1,2.2,3],\n",
    "                [4.1,3,2.1,3,4],\n",
    "                [5,4,3,4,5],\n",
    "                [6.2,5.1,4,5,6]]\n",
    "              ])"
   ]
  },
  {
   "cell_type": "code",
   "execution_count": 159,
   "metadata": {},
   "outputs": [],
   "source": [
    "modelll = hmm.GaussianHMM(n_components=2, covariance_type=\"full\",n_iter=100)"
   ]
  },
  {
   "cell_type": "code",
   "execution_count": 160,
   "metadata": {},
   "outputs": [],
   "source": [
    "X11 = X1.reshape(-1,5)\n",
    "leng = [4,4,4]"
   ]
  },
  {
   "cell_type": "code",
   "execution_count": 161,
   "metadata": {},
   "outputs": [
    {
     "data": {
      "text/plain": [
       "GaussianHMM(covariance_type='full', n_components=2, n_iter=100)"
      ]
     },
     "execution_count": 161,
     "metadata": {},
     "output_type": "execute_result"
    }
   ],
   "source": [
    "modelll.fit(X11,leng)"
   ]
  },
  {
   "cell_type": "code",
   "execution_count": 162,
   "metadata": {},
   "outputs": [
    {
     "data": {
      "text/plain": [
       "125.78077104195611"
      ]
     },
     "execution_count": 162,
     "metadata": {},
     "output_type": "execute_result"
    }
   ],
   "source": [
    "modelll.score(X11)"
   ]
  },
  {
   "cell_type": "code",
   "execution_count": 163,
   "metadata": {},
   "outputs": [
    {
     "data": {
      "text/plain": [
       "-166614.51023230277"
      ]
     },
     "execution_count": 163,
     "metadata": {},
     "output_type": "execute_result"
    }
   ],
   "source": [
    "modelll.score(X3[0])"
   ]
  },
  {
   "cell_type": "code",
   "execution_count": 164,
   "metadata": {},
   "outputs": [
    {
     "data": {
      "text/plain": [
       "-73569899.44377184"
      ]
     },
     "execution_count": 164,
     "metadata": {},
     "output_type": "execute_result"
    }
   ],
   "source": [
    "modelll.score(X2[0])"
   ]
  },
  {
   "cell_type": "code",
   "execution_count": 106,
   "metadata": {},
   "outputs": [
    {
     "data": {
      "text/plain": [
       "array([[3.1, 2. , 1.1, 2.2, 3. ],\n",
       "       [4.1, 3. , 2.1, 3. , 4. ],\n",
       "       [5. , 4. , 3. , 4. , 5. ],\n",
       "       [6.2, 5.1, 4. , 5. , 6. ],\n",
       "       [3. , 2. , 1. , 2. , 3. ],\n",
       "       [4. , 3. , 2. , 3. , 4. ],\n",
       "       [5. , 4. , 3. , 4. , 5. ],\n",
       "       [6.1, 5.1, 4.1, 5. , 6. ]])"
      ]
     },
     "execution_count": 106,
     "metadata": {},
     "output_type": "execute_result"
    }
   ],
   "source": [
    "X33 = X3.reshape(-1,5)\n",
    "X33"
   ]
  },
  {
   "cell_type": "markdown",
   "metadata": {},
   "source": [
    "# Reshape"
   ]
  },
  {
   "cell_type": "code",
   "execution_count": null,
   "metadata": {},
   "outputs": [],
   "source": [
    "a = np.array([[[1,3,5,7],[2,4,6,8]] ,[[9,11,13,15],[10,12,14,16]]])"
   ]
  },
  {
   "cell_type": "code",
   "execution_count": 153,
   "metadata": {},
   "outputs": [
    {
     "data": {
      "text/plain": [
       "array([[ 1,  2,  9, 10],\n",
       "       [ 3,  4, 11, 12],\n",
       "       [ 5,  6, 13, 14],\n",
       "       [ 7,  8, 15, 16]])"
      ]
     },
     "execution_count": 153,
     "metadata": {},
     "output_type": "execute_result"
    }
   ],
   "source": [
    "a.reshape(-1,4).T"
   ]
  },
  {
   "cell_type": "code",
   "execution_count": 149,
   "metadata": {},
   "outputs": [
    {
     "data": {
      "text/plain": [
       "array([[ 1,  2,  3,  4],\n",
       "       [ 5,  6,  7,  8],\n",
       "       [ 9, 10, 11, 12],\n",
       "       [13, 14, 15, 16]])"
      ]
     },
     "execution_count": 149,
     "metadata": {},
     "output_type": "execute_result"
    }
   ],
   "source": [
    "a.transpose(0,2,1).reshape(-1,4)"
   ]
  },
  {
   "cell_type": "code",
   "execution_count": 152,
   "metadata": {},
   "outputs": [
    {
     "data": {
      "text/plain": [
       "array([[ 1,  2],\n",
       "       [ 3,  4],\n",
       "       [ 5,  6],\n",
       "       [ 7,  8],\n",
       "       [ 9, 10],\n",
       "       [11, 12],\n",
       "       [13, 14],\n",
       "       [15, 16]])"
      ]
     },
     "execution_count": 152,
     "metadata": {},
     "output_type": "execute_result"
    }
   ],
   "source": [
    "a.transpose(0,2,1).reshape(-1,2)"
   ]
  },
  {
   "cell_type": "code",
   "execution_count": 190,
   "metadata": {},
   "outputs": [],
   "source": []
  },
  {
   "cell_type": "markdown",
   "metadata": {},
   "source": [
    "# LSTM"
   ]
  },
  {
   "cell_type": "code",
   "execution_count": null,
   "metadata": {},
   "outputs": [],
   "source": []
  },
  {
   "cell_type": "code",
   "execution_count": null,
   "metadata": {},
   "outputs": [],
   "source": []
  },
  {
   "cell_type": "code",
   "execution_count": null,
   "metadata": {},
   "outputs": [],
   "source": []
  },
  {
   "cell_type": "code",
   "execution_count": null,
   "metadata": {},
   "outputs": [],
   "source": []
  },
  {
   "cell_type": "code",
   "execution_count": null,
   "metadata": {},
   "outputs": [],
   "source": []
  }
 ],
 "metadata": {
  "kernelspec": {
   "display_name": "Python 3",
   "language": "python",
   "name": "python3"
  },
  "language_info": {
   "codemirror_mode": {
    "name": "ipython",
    "version": 3
   },
   "file_extension": ".py",
   "mimetype": "text/x-python",
   "name": "python",
   "nbconvert_exporter": "python",
   "pygments_lexer": "ipython3",
   "version": "3.8.5"
  }
 },
 "nbformat": 4,
 "nbformat_minor": 4
}
