{
 "cells": [
  {
   "cell_type": "code",
   "execution_count": 3,
   "metadata": {},
   "outputs": [],
   "source": [
    "import torch\n",
    "import torch.nn as nn\n",
    "import pandas as pd\n",
    "import numpy as np\n",
    "import seaborn as sns\n",
    "import matplotlib.pyplot as plt\n",
    "import os, fnmatch\n",
    "\n",
    "import scipy\n",
    "from scipy.io import wavfile\n",
    "from scipy import signal\n",
    "from scipy.fft import fftshift,dct\n",
    "from scipy import interpolate\n",
    "\n",
    "from sklearn.preprocessing import Normalizer\n",
    "scaler = Normalizer(norm='max')\n",
    "import librosa"
   ]
  },
  {
   "cell_type": "markdown",
   "metadata": {},
   "source": [
    "# Извлечение фич"
   ]
  },
  {
   "cell_type": "code",
   "execution_count": 26,
   "metadata": {},
   "outputs": [],
   "source": [
    "coefs = []\n",
    "path = 'D:/Учеба/Технопарк/Heart/'\n",
    "A_folder_filt = path+'set_filt_1/'\n",
    "# A_folder_filt = path+'set_1/'\n",
    "\n",
    "i=0\n",
    "scaler = Normalizer(norm='max')\n",
    "for fil in os.listdir(A_folder_filt):\n",
    "    fs, data = wavfile.read(A_folder_filt+fil)\n",
    "    data = data[:120000]\n",
    "    f, t, P = signal.spectrogram(data, fs,window='hamming',nperseg=500,noverlap=250)\n",
    "    N = P.shape[1]\n",
    "\n",
    "    #-----------------------------------------------------------------------------\n",
    "    # Calculating a block of triangle mel-filters\n",
    "    nfilt=40\n",
    "    low_freq_mel = 0\n",
    "    NFFT = len(f)\n",
    "    high_freq_mel = (2595 * np.log10(1 + (fs / 2) / 700))  \n",
    "    mel_points = np.linspace(low_freq_mel, high_freq_mel, nfilt + 2)  \n",
    "    hz_points = (700 * (10**(mel_points / 2595) - 1))  \n",
    "    bin = np.round(2 * NFFT * hz_points / fs)\n",
    "\n",
    "    fbank = np.zeros((nfilt, int(np.floor(NFFT))))\n",
    "\n",
    "    for m in range(1, nfilt + 1):\n",
    "        f_m_minus = int(bin[m - 1])   # left\n",
    "        f_m = int(bin[m])             # center\n",
    "        f_m_plus = int(bin[m + 1])    # right\n",
    "\n",
    "        for k in range(f_m_minus, f_m):\n",
    "            fbank[m - 1, k] = (k - bin[m - 1]) / (bin[m] - bin[m - 1])\n",
    "        for k in range(f_m, f_m_plus):\n",
    "            fbank[m - 1, k] = (bin[m + 1] - k) / (bin[m + 1] - bin[m])       \n",
    "    #------------------------------------------------------------------------------\n",
    "    filter_banks = np.dot(fbank,P)  \n",
    "    filter_banks = np.where(filter_banks == 0, np.finfo(float).eps, filter_banks)  # Numerical Stability\n",
    "    filter_banks = 20 * np.log10(filter_banks) \n",
    "    filter_banks = filter_banks - (np.mean(filter_banks, axis=1).reshape(-1,1) + 1e-8)\n",
    "    num_ceps = 14\n",
    "    mfc = filter_banks[1 : (num_ceps + 1),:] # select ony 14 first coeffs\n",
    "\n",
    "    # Interpolationg to get coefficient matrix of certain shape\n",
    "    std_len = 512 # \"time\" lenght,m in n*m matrix\n",
    "\n",
    "    x = np.arange(0,mfc.shape[1],1)\n",
    "    y = np.arange(0,mfc.shape[0],1)\n",
    "    f = interpolate.interp2d(x, y, mfc, kind='cubic')\n",
    "    xnew = np.arange(0,mfc.shape[1],mfc.shape[1]/std_len)\n",
    "    mfc_interp = f(xnew, y)\n",
    "\n",
    "    # scaling to (0,1)\n",
    "#     mfc_interp = scaler.fit_transform(mfc_interp)\n",
    "\n",
    "    if i==0:\n",
    "        coefs = torch.FloatTensor(mfc_interp).unsqueeze(0)\n",
    "    else:\n",
    "        coefs = torch.cat((coefs,torch.FloatTensor(mfc_interp).unsqueeze(0)))\n",
    "    i+=1\n",
    "\n",
    "labels = []\n",
    "for i in os.listdir(A_folder_filt):\n",
    "    if i[0]=='n':\n",
    "        labels.append(0)\n",
    "    elif i[0]=='m':\n",
    "        labels.append(1)\n",
    "#     elif i[0]=='e':\n",
    "#         labels.append(2)\n",
    "    else:\n",
    "        labels.append(2)\n",
    "\n",
    "# print(i)\n",
    "labels = torch.FloatTensor(np.array(labels).reshape(-1,1))"
   ]
  },
  {
   "cell_type": "markdown",
   "metadata": {},
   "source": [
    "# Аугментация"
   ]
  },
  {
   "cell_type": "code",
   "execution_count": 39,
   "metadata": {},
   "outputs": [],
   "source": [
    "def mel_ceps(data, fs, std_len=512): \n",
    "    f, t, P = signal.spectrogram(data, fs, window='hamming',nperseg=500,noverlap=250)\n",
    "    N = P.shape[1]\n",
    "\n",
    "    #-----------------------------------------------------------------------------\n",
    "    # Calculating a block of triangle mel-filters\n",
    "    nfilt=40\n",
    "    low_freq_mel = 0\n",
    "    NFFT = len(f)\n",
    "    high_freq_mel = (2595 * np.log10(1 + (fs / 2) / 700))  \n",
    "    mel_points = np.linspace(low_freq_mel, high_freq_mel, nfilt + 2)  \n",
    "    hz_points = (700 * (10**(mel_points / 2595) - 1))  \n",
    "    bin = np.round(2 * NFFT * hz_points / fs)\n",
    "\n",
    "    fbank = np.zeros((nfilt, int(np.floor(NFFT))))\n",
    "\n",
    "    for m in range(1, nfilt + 1):\n",
    "        f_m_minus = int(bin[m - 1])   # left\n",
    "        f_m = int(bin[m])             # center\n",
    "        f_m_plus = int(bin[m + 1])    # right\n",
    "\n",
    "        for k in range(f_m_minus, f_m):\n",
    "            fbank[m - 1, k] = (k - bin[m - 1]) / (bin[m] - bin[m - 1])\n",
    "        for k in range(f_m, f_m_plus):\n",
    "            fbank[m - 1, k] = (bin[m + 1] - k) / (bin[m + 1] - bin[m])       \n",
    "    #------------------------------------------------------------------------------\n",
    "    filter_banks = np.dot(fbank,P)  \n",
    "    filter_banks = np.where(filter_banks == 0, np.finfo(float).eps, filter_banks)  # Numerical Stability\n",
    "    filter_banks = 20 * np.log10(filter_banks) \n",
    "    filter_banks = filter_banks - (np.mean(filter_banks, axis=1).reshape(-1,1) + 1e-8)\n",
    "    num_ceps = 14\n",
    "    mfc = filter_banks[1 : (num_ceps + 1),:] # select ony 14 first coeffs\n",
    "\n",
    "    x = np.arange(0,mfc.shape[1],1)\n",
    "    y = np.arange(0,mfc.shape[0],1)\n",
    "    f = interpolate.interp2d(x, y, mfc, kind='cubic')\n",
    "    xnew = np.arange(0,mfc.shape[1],mfc.shape[1]/std_len)\n",
    "    mfc_interp = f(xnew, y)\n",
    "    \n",
    "    return mfc_interp"
   ]
  },
  {
   "cell_type": "code",
   "execution_count": 40,
   "metadata": {},
   "outputs": [],
   "source": [
    "coefs = []\n",
    "labels = []\n",
    "path = 'D:/Учеба/Технопарк/Heart/'\n",
    "A_folder_filt = path+'set_filt_2/'\n",
    "# A_folder_filt = path+'set_1/'\n",
    "\n",
    "i=True\n",
    "scaler = Normalizer(norm='max')\n",
    "for fil in os.listdir(A_folder_filt):\n",
    "    fs, data_in = wavfile.read(A_folder_filt+fil)\n",
    "    data = data_in[:120000]\n",
    "    \n",
    "    #original wav\n",
    "    mfc_interp = mel_ceps(data, fs)\n",
    "    if i:\n",
    "        coefs = torch.FloatTensor(mfc_interp).unsqueeze(0)\n",
    "        i=False\n",
    "    else:\n",
    "        coefs = torch.cat((coefs,torch.FloatTensor(mfc_interp).unsqueeze(0)))\n",
    "\n",
    "    # noised 1\n",
    "    noise_power = data.max() - data.mean()\n",
    "    data = data + np.random.normal(scale=np.sqrt(noise_power), size=data.shape)\n",
    "    mfc_interp = mel_ceps(data, fs)\n",
    "    \n",
    "    coefs = torch.cat((coefs,torch.FloatTensor(mfc_interp).unsqueeze(0)))\n",
    "    \n",
    "    # other parts of initial signal\n",
    "    data = data_in[:160000]\n",
    "    mfc_interp = mel_ceps(data, fs)\n",
    "    \n",
    "    coefs = torch.cat((coefs,torch.FloatTensor(mfc_interp).unsqueeze(0)))\n",
    "\n",
    "    # other parts of initial signal\n",
    "    data = data_in[:80000]\n",
    "    mfc_interp = mel_ceps(data, fs)\n",
    "    \n",
    "    coefs = torch.cat((coefs,torch.FloatTensor(mfc_interp).unsqueeze(0)))\n",
    "    \n",
    "    if fil[0]=='n':\n",
    "        labels.append(0)\n",
    "        labels.append(0)\n",
    "        labels.append(0)\n",
    "        labels.append(0)\n",
    "    elif fil[0]=='m':\n",
    "        labels.append(1)\n",
    "        labels.append(1)\n",
    "        labels.append(1)\n",
    "        labels.append(1)\n",
    "    elif fil[0]=='e':\n",
    "        labels.append(2)\n",
    "        labels.append(2)\n",
    "        labels.append(2)\n",
    "        labels.append(2)\n",
    "    else:\n",
    "        labels.append(3)\n",
    "        labels.append(3)\n",
    "        labels.append(3)\n",
    "        labels.append(3)\n",
    "    \n",
    "labels = torch.FloatTensor(np.array(labels).reshape(-1,1))"
   ]
  },
  {
   "cell_type": "code",
   "execution_count": 41,
   "metadata": {},
   "outputs": [],
   "source": [
    "r=torch.randperm(coefs.shape[0]) #шафлим\n",
    "X = coefs[r]\n",
    "y = labels.reshape(1,-1)[0][r]"
   ]
  },
  {
   "cell_type": "code",
   "execution_count": 42,
   "metadata": {},
   "outputs": [],
   "source": [
    "from sklearn.model_selection import train_test_split\n",
    "X = np.array(X).transpose(0,2,1)\n",
    "y = np.array(y)\n",
    "X_train, X_test, y_train, y_test = train_test_split(X, y, test_size=0.2)"
   ]
  },
  {
   "cell_type": "code",
   "execution_count": 43,
   "metadata": {},
   "outputs": [],
   "source": [
    "X_test, X_val, y_test, y_val = train_test_split(X_test, y_test, test_size=0.5)"
   ]
  },
  {
   "cell_type": "code",
   "execution_count": 44,
   "metadata": {},
   "outputs": [],
   "source": [
    "X_train = torch.FloatTensor(X_train)\n",
    "X_test = torch.FloatTensor(X_test)\n",
    "y_train = torch.LongTensor(y_train)\n",
    "y_test = torch.LongTensor(y_test)\n",
    "\n",
    "X_val = torch.FloatTensor(X_val)\n",
    "y_val = torch.LongTensor(y_val)"
   ]
  },
  {
   "cell_type": "code",
   "execution_count": 45,
   "metadata": {},
   "outputs": [
    {
     "data": {
      "text/plain": [
       "torch.Size([1875, 512, 14])"
      ]
     },
     "execution_count": 45,
     "metadata": {},
     "output_type": "execute_result"
    }
   ],
   "source": [
    "X_train.shape"
   ]
  },
  {
   "cell_type": "markdown",
   "metadata": {},
   "source": [
    "# Жигуль"
   ]
  },
  {
   "cell_type": "code",
   "execution_count": 2,
   "metadata": {},
   "outputs": [],
   "source": [
    "data = torch.load('D:/rech/VeriRu/words/dataset_conv_cepstr_96.pt')\n",
    "labels = torch.load('D:/rech/VeriRu/words/dataset_labels_cepstr_96.pt')\n",
    "\n",
    "# r=torch.randperm(data.shape[0]) #шафлим\n",
    "X = data\n",
    "y = labels.reshape(1,-1)[0]"
   ]
  },
  {
   "cell_type": "code",
   "execution_count": 3,
   "metadata": {},
   "outputs": [],
   "source": [
    "from sklearn.model_selection import train_test_split\n",
    "X = np.array(X).transpose(0,2,1)\n",
    "y = np.array(y)\n",
    "X_train, X_test, y_train, y_test = train_test_split(X, y, test_size=0.2)"
   ]
  },
  {
   "cell_type": "code",
   "execution_count": 4,
   "metadata": {},
   "outputs": [],
   "source": [
    "X_train = torch.FloatTensor(X_train)\n",
    "X_test = torch.FloatTensor(X_test)\n",
    "y_train = torch.LongTensor(y_train)\n",
    "y_test = torch.LongTensor(y_test)\n",
    "\n",
    "# X_train = X_train.unsqueeze(1).float()\n",
    "# X_test = X_test.unsqueeze(1).float()"
   ]
  },
  {
   "cell_type": "code",
   "execution_count": 19,
   "metadata": {},
   "outputs": [
    {
     "data": {
      "text/plain": [
       "torch.Size([2329, 96, 14])"
      ]
     },
     "execution_count": 19,
     "metadata": {},
     "output_type": "execute_result"
    }
   ],
   "source": [
    "X_test.shape"
   ]
  },
  {
   "cell_type": "markdown",
   "metadata": {},
   "source": [
    "# LSTM "
   ]
  },
  {
   "cell_type": "code",
   "execution_count": 46,
   "metadata": {},
   "outputs": [],
   "source": [
    "class SentimentNet(nn.Module):\n",
    "    def __init__(self, output_size, input_size, hidden_dim, n_layers=2, drop_prob=0.2):\n",
    "        super(SentimentNet, self).__init__()\n",
    "        self.output_size = output_size\n",
    "        self.n_layers = n_layers\n",
    "        self.hidden_dim = hidden_dim\n",
    "        \n",
    "        self.lstm = nn.LSTM(input_size, hidden_dim, n_layers, dropout=drop_prob, batch_first=True)\n",
    "        self.dropout = nn.Dropout(drop_prob)\n",
    "        self.fc1 = nn.Linear(hidden_dim, 60)\n",
    "        self.act = nn.Sigmoid()\n",
    "        self.fc2 = nn.Linear(60,output_size)\n",
    "    def forward(self, x, hidden):\n",
    "\n",
    "        x, hidden = self.lstm(x, hidden)\n",
    "        x = x[:,-1,:]\n",
    "        x = self.dropout(x)\n",
    "        x = self.fc1(x)\n",
    "        x = self.act(x)\n",
    "        x = self.fc2(x)\n",
    "        return x, hidden\n",
    "    \n",
    "    def init_hidden(self, batch_size):\n",
    "        weight = next(self.parameters()).data\n",
    "        hidden = (weight.new(self.n_layers, batch_size, self.hidden_dim).zero_(),\n",
    "                      weight.new(self.n_layers, batch_size, self.hidden_dim).zero_())\n",
    "        return hidden"
   ]
  },
  {
   "cell_type": "code",
   "execution_count": 47,
   "metadata": {},
   "outputs": [],
   "source": [
    "def train(net, X_train, y_train, X_test, y_test, batch_size=20, classes=4):\n",
    "    \n",
    "    valid_loss_min = np.Inf\n",
    "    \n",
    "    device = torch.device('cuda:0' if torch.cuda.is_available() else 'cpu')\n",
    "    net = net.to(device)\n",
    "    loss = torch.nn.CrossEntropyLoss()\n",
    "    optimizer = torch.optim.Adam(net.parameters(), lr=3.0e-4)\n",
    "    \n",
    "    test_accuracy_history = []\n",
    "    test_loss_history = []\n",
    "\n",
    "    X_test = X_test.to(device)\n",
    "    y_test = y_test.to(device)\n",
    "    for epoch in range(40):\n",
    "        h = net.init_hidden(batch_size)\n",
    "        order = np.random.permutation(len(X_train))\n",
    "        \n",
    "        for start_index in range(0, len(X_train), batch_size):\n",
    "            h = tuple([e.data for e in h])   \n",
    "            optimizer.zero_grad()\n",
    "            net.train()\n",
    "        \n",
    "            batch_indexes = order[start_index:start_index+batch_size]\n",
    "            \n",
    "            # adding extra indexes to last batch, if its size less than batch_size\n",
    "            if batch_indexes.shape[0] < batch_size:\n",
    "                add_indx_num = batch_size - batch_indexes.shape[0]\n",
    "                add_indx = np.random.randint(0,len(X_train),add_indx_num)\n",
    "                batch_indexes = np.concatenate((batch_indexes,add_indx))\n",
    "                \n",
    "            X_batch = X_train[batch_indexes].to(device)\n",
    "            y_batch = y_train[batch_indexes].to(device)\n",
    "            \n",
    "            preds, h = net.forward(X_batch, h)\n",
    "            \n",
    "            loss_value = loss(preds, y_batch)\n",
    "            loss_value.backward()\n",
    "\n",
    "            optimizer.step()\n",
    "        \n",
    "        # evaluating    \n",
    "        net.eval()\n",
    "        test_preds = []\n",
    "        y_test_extended = []\n",
    "        order_test = np.arange(len(X_test))\n",
    "        for start_index_test in range(0, len(X_test), batch_size):\n",
    "            \n",
    "            batch_indexes_test = order_test[start_index_test:start_index_test+batch_size]\n",
    "            \n",
    "            # adding extra data to last batch, if its size less than batch_size\n",
    "            if batch_indexes_test.shape[0] < batch_size:\n",
    "                add_indx_num = batch_size - batch_indexes_test.shape[0]\n",
    "                add_indx = np.random.randint(0,len(X_test),add_indx_num)\n",
    "                batch_indexes_test = np.concatenate((batch_indexes_test,add_indx))\n",
    "                \n",
    "            \n",
    "            X_batch_test = X_test[batch_indexes_test]  \n",
    "            test_preds_batch,_ = net.forward(X_batch_test, h)\n",
    "            test_preds.append(test_preds_batch.data)\n",
    "            y_test_extended.append(y_test[batch_indexes_test])\n",
    "            \n",
    "            \n",
    "        test_preds = torch.stack(test_preds).reshape(-1,classes)\n",
    "        y_test_extended = torch.stack(y_test_extended).reshape(-1)\n",
    "\n",
    "        #-----------------------------------------------------------------  \n",
    "        \n",
    "        test_loss_history.append(loss(test_preds, y_test_extended).data.cpu())\n",
    "        accuracy = (test_preds.argmax(dim=1) == y_test_extended).float().mean().data.cpu()\n",
    "        test_accuracy_history.append(accuracy)\n",
    "        print(accuracy)\n",
    "    del net\n",
    "    return test_accuracy_history, test_loss_history\n",
    "\n",
    "accuracies = {}\n",
    "losses = {}"
   ]
  },
  {
   "cell_type": "code",
   "execution_count": 48,
   "metadata": {
    "scrolled": true
   },
   "outputs": [
    {
     "name": "stdout",
     "output_type": "stream",
     "text": [
      "tensor(0.6167)\n",
      "tensor(0.6250)\n",
      "tensor(0.6208)\n",
      "tensor(0.6083)\n",
      "tensor(0.6458)\n",
      "tensor(0.6875)\n",
      "tensor(0.7000)\n",
      "tensor(0.7583)\n",
      "tensor(0.7708)\n",
      "tensor(0.7708)\n",
      "tensor(0.7958)\n",
      "tensor(0.7958)\n",
      "tensor(0.8250)\n",
      "tensor(0.8292)\n",
      "tensor(0.8417)\n",
      "tensor(0.8333)\n",
      "tensor(0.8375)\n",
      "tensor(0.7875)\n",
      "tensor(0.8000)\n",
      "tensor(0.8250)\n",
      "tensor(0.8083)\n",
      "tensor(0.8250)\n",
      "tensor(0.8375)\n",
      "tensor(0.8333)\n",
      "tensor(0.8333)\n",
      "tensor(0.8500)\n",
      "tensor(0.8250)\n",
      "tensor(0.8292)\n",
      "tensor(0.8167)\n",
      "tensor(0.8375)\n",
      "tensor(0.8458)\n",
      "tensor(0.8292)\n",
      "tensor(0.7500)\n",
      "tensor(0.8417)\n",
      "tensor(0.8292)\n",
      "tensor(0.8417)\n",
      "tensor(0.8375)\n",
      "tensor(0.8375)\n",
      "tensor(0.8542)\n",
      "tensor(0.8500)\n"
     ]
    }
   ],
   "source": [
    "output_size = 4\n",
    "input_size = 14\n",
    "hidden_dim = 128\n",
    "n_layers = 2\n",
    "batch_size = 20\n",
    "\n",
    "accuracies['cifar_net_80_no'], losses['cifar_net_80_no'] = \\\n",
    "    train(SentimentNet(output_size, input_size, hidden_dim, n_layers),\n",
    "          X_train, y_train, X_test, y_test)"
   ]
  },
  {
   "cell_type": "code",
   "execution_count": 49,
   "metadata": {},
   "outputs": [
    {
     "data": {
      "image/png": "[encoded data removed]",
      "text/plain": [
       "<Figure size 1080x720 with 2 Axes>"
      ]
     },
     "metadata": {
      "needs_background": "light"
     },
     "output_type": "display_data"
    }
   ],
   "source": [
    "fig,(ax,bx) = plt.subplots(2,figsize=(15,10))\n",
    "for experiment_id in accuracies.keys():\n",
    "    ax.plot(accuracies[experiment_id], label=experiment_id)\n",
    "    ax.legend()\n",
    "    ax.set_title('Validation Accuracy');\n",
    "ax.grid()\n",
    "for experiment_id in accuracies.keys():\n",
    "    bx.plot(losses[experiment_id], label=experiment_id)\n",
    "    bx.legend()\n",
    "    bx.set_title('Validation Losses');\n",
    "bx.grid()"
   ]
  },
  {
   "cell_type": "code",
   "execution_count": null,
   "metadata": {},
   "outputs": [],
   "source": []
  },
  {
   "cell_type": "code",
   "execution_count": null,
   "metadata": {},
   "outputs": [],
   "source": []
  },
  {
   "cell_type": "code",
   "execution_count": null,
   "metadata": {},
   "outputs": [],
   "source": []
  },
  {
   "cell_type": "code",
   "execution_count": null,
   "metadata": {},
   "outputs": [],
   "source": []
  },
  {
   "cell_type": "code",
   "execution_count": null,
   "metadata": {},
   "outputs": [],
   "source": []
  },
  {
   "cell_type": "code",
   "execution_count": null,
   "metadata": {},
   "outputs": [],
   "source": []
  },
  {
   "cell_type": "code",
   "execution_count": null,
   "metadata": {},
   "outputs": [],
   "source": []
  },
  {
   "cell_type": "code",
   "execution_count": null,
   "metadata": {},
   "outputs": [],
   "source": []
  },
  {
   "cell_type": "code",
   "execution_count": null,
   "metadata": {},
   "outputs": [],
   "source": []
  },
  {
   "cell_type": "code",
   "execution_count": null,
   "metadata": {},
   "outputs": [],
   "source": []
  },
  {
   "cell_type": "code",
   "execution_count": 1,
   "metadata": {},
   "outputs": [
    {
     "data": {
      "text/plain": [
       "<torch._C.Generator at 0x170cacac0d0>"
      ]
     },
     "execution_count": 1,
     "metadata": {},
     "output_type": "execute_result"
    }
   ],
   "source": [
    "import torch\n",
    "import torch.nn as nn\n",
    "import torch.nn.functional as F\n",
    "import torch.optim as optim\n",
    "\n",
    "torch.manual_seed(1)"
   ]
  },
  {
   "cell_type": "code",
   "execution_count": 2,
   "metadata": {},
   "outputs": [
    {
     "name": "stdout",
     "output_type": "stream",
     "text": [
      "tensor([[[-0.0187,  0.1713, -0.2944]],\n",
      "\n",
      "        [[-0.3521,  0.1026, -0.2971]],\n",
      "\n",
      "        [[-0.3191,  0.0781, -0.1957]],\n",
      "\n",
      "        [[-0.1634,  0.0941, -0.1637]],\n",
      "\n",
      "        [[-0.3368,  0.0959, -0.0538]]], grad_fn=<StackBackward>)\n",
      "(tensor([[[-0.3368,  0.0959, -0.0538]]], grad_fn=<StackBackward>), tensor([[[-0.9825,  0.4715, -0.0633]]], grad_fn=<StackBackward>))\n"
     ]
    }
   ],
   "source": [
    "lstm = nn.LSTM(3, 3)  # Input dim is 3, output dim is 3\n",
    "inputs = [torch.randn(1, 3) for _ in range(5)]  # make a sequence of length 5\n",
    "\n",
    "# initialize the hidden state.\n",
    "hidden = (torch.randn(1, 1, 3),\n",
    "          torch.randn(1, 1, 3))\n",
    "for i in inputs:\n",
    "    # Step through the sequence one element at a time.\n",
    "    # after each step, hidden contains the hidden state.\n",
    "    out, hidden = lstm(i.view(1, 1, -1), hidden)\n",
    "\n",
    "# alternatively, we can do the entire sequence all at once.\n",
    "# the first value returned by LSTM is all of the hidden states throughout\n",
    "# the sequence. the second is just the most recent hidden state\n",
    "# (compare the last slice of \"out\" with \"hidden\" below, they are the same)\n",
    "# The reason for this is that:\n",
    "# \"out\" will give you access to all hidden states in the sequence\n",
    "# \"hidden\" will allow you to continue the sequence and backpropagate,\n",
    "# by passing it as an argument  to the lstm at a later time\n",
    "# Add the extra 2nd dimension\n",
    "inputs = torch.cat(inputs).view(len(inputs), 1, -1)\n",
    "hidden = (torch.randn(1, 1, 3), torch.randn(1, 1, 3))  # clean out hidden state\n",
    "out, hidden = lstm(inputs, hidden)\n",
    "print(out)\n",
    "print(hidden)"
   ]
  },
  {
   "cell_type": "code",
   "execution_count": 6,
   "metadata": {},
   "outputs": [
    {
     "name": "stdout",
     "output_type": "stream",
     "text": [
      "{'The': 0, 'dog': 1, 'ate': 2, 'the': 3, 'apple': 4, 'Everybody': 5, 'read': 6, 'that': 7, 'book': 8}\n"
     ]
    }
   ],
   "source": [
    "def prepare_sequence(seq, to_ix):    \n",
    "    idxs = [to_ix[w] for w in seq]\n",
    "    return torch.tensor(idxs, dtype=torch.long)\n",
    "\n",
    "\n",
    "training_data = [\n",
    "    # Tags are: DET - determiner; NN - noun; V - verb\n",
    "    # For example, the word \"The\" is a determiner\n",
    "    (\"The dog ate the apple\".split(), [\"DET\", \"NN\", \"V\", \"DET\", \"NN\"]),\n",
    "    (\"Everybody read that book\".split(), [\"NN\", \"V\", \"DET\", \"NN\"])\n",
    "]\n",
    "word_to_ix = {}\n",
    "# For each words-list (sentence) and tags-list in each tuple of training_data\n",
    "for sent, tags in training_data:\n",
    "    for word in sent:\n",
    "        if word not in word_to_ix:  # word has not been assigned an index yet\n",
    "            word_to_ix[word] = len(word_to_ix)  # Assign each word with a unique index\n",
    "print(word_to_ix)\n",
    "tag_to_ix = {\"DET\": 0, \"NN\": 1, \"V\": 2}  # Assign each tag with a unique index\n",
    "\n",
    "# These will usually be more like 32 or 64 dimensional.\n",
    "# We will keep them small, so we can see how the weights change as we train.\n",
    "EMBEDDING_DIM = 6\n",
    "HIDDEN_DIM = 6"
   ]
  },
  {
   "cell_type": "code",
   "execution_count": 65,
   "metadata": {},
   "outputs": [],
   "source": [
    "class LSTMTagger(nn.Module):\n",
    "\n",
    "    def __init__(self, embedding_dim, hidden_dim, vocab_size, tagset_size):\n",
    "        super(LSTMTagger, self).__init__()\n",
    "        self.hidden_dim = hidden_dim\n",
    "\n",
    "        self.word_embeddings = nn.Embedding(vocab_size, embedding_dim)\n",
    "\n",
    "        # The LSTM takes word embeddings as inputs, and outputs hidden states\n",
    "        # with dimensionality hidden_dim.\n",
    "        self.lstm = nn.LSTM(embedding_dim, hidden_dim)\n",
    "\n",
    "        # The linear layer that maps from hidden state space to tag space\n",
    "        self.hidden2tag = nn.Linear(hidden_dim, tagset_size)\n",
    "        \n",
    "    def forward(self, sentence):\n",
    "        embeds = self.word_embeddings(sentence)\n",
    "        lstm_out, gg = self.lstm(embeds.view(len(sentence), 1, -1))\n",
    "        tag_space = self.hidden2tag(lstm_out.view(len(sentence), -1))\n",
    "        tag_scores = F.log_softmax(tag_space, dim=1)\n",
    "        return tag_scores, gg"
   ]
  },
  {
   "cell_type": "code",
   "execution_count": 67,
   "metadata": {},
   "outputs": [
    {
     "name": "stdout",
     "output_type": "stream",
     "text": [
      "(tensor([[[-0.0571,  0.1878, -0.0856,  0.0757,  0.0677,  0.0306]]],\n",
      "       grad_fn=<StackBackward>), tensor([[[-0.1386,  0.4112, -0.1636,  0.2027,  0.2051,  0.0716]]],\n",
      "       grad_fn=<StackBackward>))\n",
      "(tensor([[[ 0.0655,  0.0048, -0.1308,  0.1827,  0.1053, -0.0667]]],\n",
      "       grad_fn=<StackBackward>), tensor([[[ 0.1254,  0.0141, -0.3582,  0.5021,  0.1867, -0.1121]]],\n",
      "       grad_fn=<StackBackward>))\n"
     ]
    }
   ],
   "source": [
    "for sentence, tags in training_data:\n",
    "        # Step 1. Remember that Pytorch accumulates gradients.\n",
    "        # We need to clear them out before each instance\n",
    "        # Step 2. Get our inputs ready for the network, that is, turn them into\n",
    "        # Tensors of word indices.\n",
    "        sentence_in = prepare_sequence(sentence, word_to_ix)\n",
    "        targets = prepare_sequence(tags, tag_to_ix)\n",
    "        \n",
    "        # Step 3. Run our forward pass.\n",
    "        tag_scores, gg = model(sentence_in)\n",
    "        \n",
    "        # Step 4. Compute the loss, gradients, and update the parameters by\n",
    "#          calling optimizer.step()\n",
    "        loss = loss_function(tag_scores, targets)\n",
    "        print(gg)\n",
    "        loss.backward()\n",
    "        optimizer.step()"
   ]
  },
  {
   "cell_type": "code",
   "execution_count": 49,
   "metadata": {},
   "outputs": [
    {
     "data": {
      "text/plain": [
       "[(['The', 'dog', 'ate', 'the', 'apple'], ['DET', 'NN', 'V', 'DET', 'NN']),\n",
       " (['Everybody', 'read', 'that', 'book'], ['NN', 'V', 'DET', 'NN'])]"
      ]
     },
     "execution_count": 49,
     "metadata": {},
     "output_type": "execute_result"
    }
   ],
   "source": [
    "training_data"
   ]
  },
  {
   "cell_type": "code",
   "execution_count": 66,
   "metadata": {},
   "outputs": [
    {
     "name": "stdout",
     "output_type": "stream",
     "text": [
      "(tensor([[-0.9521, -1.2469, -1.1188],\n",
      "        [-0.9776, -1.2103, -1.1219],\n",
      "        [-0.9670, -1.1796, -1.1636],\n",
      "        [-0.9780, -1.1728, -1.1570],\n",
      "        [-0.9431, -1.2840, -1.0977]]), (tensor([[[-0.0020,  0.0817,  0.0272,  0.1607, -0.1000, -0.0290]]]), tensor([[[-0.0039,  0.1911,  0.1016,  0.2715, -0.2166, -0.1310]]])))\n",
      "(tensor([[-0.9598, -0.8448, -1.6747],\n",
      "        [-0.9409, -0.8438, -1.7168],\n",
      "        [-0.9723, -0.8566, -1.6237],\n",
      "        [-0.9785, -0.8351, -1.6592],\n",
      "        [-1.0014, -0.8165, -1.6573]]), (tensor([[[-0.0571,  0.1878, -0.0856,  0.0757,  0.0677,  0.0306]]]), tensor([[[-0.1386,  0.4112, -0.1636,  0.2027,  0.2051,  0.0716]]])))\n"
     ]
    },
    {
     "ename": "AttributeError",
     "evalue": "'tuple' object has no attribute 'dim'",
     "output_type": "error",
     "traceback": [
      "\u001b[1;31m---------------------------------------------------------------------------\u001b[0m",
      "\u001b[1;31mAttributeError\u001b[0m                            Traceback (most recent call last)",
      "\u001b[1;32m<ipython-input-66-e79ccfce65bb>\u001b[0m in \u001b[0;36m<module>\u001b[1;34m\u001b[0m\n\u001b[0;32m     49\u001b[0m         \u001b[1;31m# Step 4. Compute the loss, gradients, and update the parameters by\u001b[0m\u001b[1;33m\u001b[0m\u001b[1;33m\u001b[0m\u001b[1;33m\u001b[0m\u001b[0m\n\u001b[0;32m     50\u001b[0m         \u001b[1;31m#  calling optimizer.step()\u001b[0m\u001b[1;33m\u001b[0m\u001b[1;33m\u001b[0m\u001b[1;33m\u001b[0m\u001b[0m\n\u001b[1;32m---> 51\u001b[1;33m         \u001b[0mloss\u001b[0m \u001b[1;33m=\u001b[0m \u001b[0mloss_function\u001b[0m\u001b[1;33m(\u001b[0m\u001b[0mtag_scores\u001b[0m\u001b[1;33m,\u001b[0m \u001b[0mtargets\u001b[0m\u001b[1;33m)\u001b[0m\u001b[1;33m\u001b[0m\u001b[1;33m\u001b[0m\u001b[0m\n\u001b[0m\u001b[0;32m     52\u001b[0m         \u001b[0mloss\u001b[0m\u001b[1;33m.\u001b[0m\u001b[0mbackward\u001b[0m\u001b[1;33m(\u001b[0m\u001b[1;33m)\u001b[0m\u001b[1;33m\u001b[0m\u001b[1;33m\u001b[0m\u001b[0m\n\u001b[0;32m     53\u001b[0m         \u001b[0moptimizer\u001b[0m\u001b[1;33m.\u001b[0m\u001b[0mstep\u001b[0m\u001b[1;33m(\u001b[0m\u001b[1;33m)\u001b[0m\u001b[1;33m\u001b[0m\u001b[1;33m\u001b[0m\u001b[0m\n",
      "\u001b[1;32mD:\\Progi\\Anaconda\\lib\\site-packages\\torch\\nn\\modules\\module.py\u001b[0m in \u001b[0;36m_call_impl\u001b[1;34m(self, *input, **kwargs)\u001b[0m\n\u001b[0;32m    720\u001b[0m             \u001b[0mresult\u001b[0m \u001b[1;33m=\u001b[0m \u001b[0mself\u001b[0m\u001b[1;33m.\u001b[0m\u001b[0m_slow_forward\u001b[0m\u001b[1;33m(\u001b[0m\u001b[1;33m*\u001b[0m\u001b[0minput\u001b[0m\u001b[1;33m,\u001b[0m \u001b[1;33m**\u001b[0m\u001b[0mkwargs\u001b[0m\u001b[1;33m)\u001b[0m\u001b[1;33m\u001b[0m\u001b[1;33m\u001b[0m\u001b[0m\n\u001b[0;32m    721\u001b[0m         \u001b[1;32melse\u001b[0m\u001b[1;33m:\u001b[0m\u001b[1;33m\u001b[0m\u001b[1;33m\u001b[0m\u001b[0m\n\u001b[1;32m--> 722\u001b[1;33m             \u001b[0mresult\u001b[0m \u001b[1;33m=\u001b[0m \u001b[0mself\u001b[0m\u001b[1;33m.\u001b[0m\u001b[0mforward\u001b[0m\u001b[1;33m(\u001b[0m\u001b[1;33m*\u001b[0m\u001b[0minput\u001b[0m\u001b[1;33m,\u001b[0m \u001b[1;33m**\u001b[0m\u001b[0mkwargs\u001b[0m\u001b[1;33m)\u001b[0m\u001b[1;33m\u001b[0m\u001b[1;33m\u001b[0m\u001b[0m\n\u001b[0m\u001b[0;32m    723\u001b[0m         for hook in itertools.chain(\n\u001b[0;32m    724\u001b[0m                 \u001b[0m_global_forward_hooks\u001b[0m\u001b[1;33m.\u001b[0m\u001b[0mvalues\u001b[0m\u001b[1;33m(\u001b[0m\u001b[1;33m)\u001b[0m\u001b[1;33m,\u001b[0m\u001b[1;33m\u001b[0m\u001b[1;33m\u001b[0m\u001b[0m\n",
      "\u001b[1;32mD:\\Progi\\Anaconda\\lib\\site-packages\\torch\\nn\\modules\\loss.py\u001b[0m in \u001b[0;36mforward\u001b[1;34m(self, input, target)\u001b[0m\n\u001b[0;32m    209\u001b[0m \u001b[1;33m\u001b[0m\u001b[0m\n\u001b[0;32m    210\u001b[0m     \u001b[1;32mdef\u001b[0m \u001b[0mforward\u001b[0m\u001b[1;33m(\u001b[0m\u001b[0mself\u001b[0m\u001b[1;33m,\u001b[0m \u001b[0minput\u001b[0m\u001b[1;33m:\u001b[0m \u001b[0mTensor\u001b[0m\u001b[1;33m,\u001b[0m \u001b[0mtarget\u001b[0m\u001b[1;33m:\u001b[0m \u001b[0mTensor\u001b[0m\u001b[1;33m)\u001b[0m \u001b[1;33m->\u001b[0m \u001b[0mTensor\u001b[0m\u001b[1;33m:\u001b[0m\u001b[1;33m\u001b[0m\u001b[1;33m\u001b[0m\u001b[0m\n\u001b[1;32m--> 211\u001b[1;33m         \u001b[1;32mreturn\u001b[0m \u001b[0mF\u001b[0m\u001b[1;33m.\u001b[0m\u001b[0mnll_loss\u001b[0m\u001b[1;33m(\u001b[0m\u001b[0minput\u001b[0m\u001b[1;33m,\u001b[0m \u001b[0mtarget\u001b[0m\u001b[1;33m,\u001b[0m \u001b[0mweight\u001b[0m\u001b[1;33m=\u001b[0m\u001b[0mself\u001b[0m\u001b[1;33m.\u001b[0m\u001b[0mweight\u001b[0m\u001b[1;33m,\u001b[0m \u001b[0mignore_index\u001b[0m\u001b[1;33m=\u001b[0m\u001b[0mself\u001b[0m\u001b[1;33m.\u001b[0m\u001b[0mignore_index\u001b[0m\u001b[1;33m,\u001b[0m \u001b[0mreduction\u001b[0m\u001b[1;33m=\u001b[0m\u001b[0mself\u001b[0m\u001b[1;33m.\u001b[0m\u001b[0mreduction\u001b[0m\u001b[1;33m)\u001b[0m\u001b[1;33m\u001b[0m\u001b[1;33m\u001b[0m\u001b[0m\n\u001b[0m\u001b[0;32m    212\u001b[0m \u001b[1;33m\u001b[0m\u001b[0m\n\u001b[0;32m    213\u001b[0m \u001b[1;33m\u001b[0m\u001b[0m\n",
      "\u001b[1;32mD:\\Progi\\Anaconda\\lib\\site-packages\\torch\\nn\\functional.py\u001b[0m in \u001b[0;36mnll_loss\u001b[1;34m(input, target, weight, size_average, ignore_index, reduce, reduction)\u001b[0m\n\u001b[0;32m   2208\u001b[0m     \u001b[1;32mif\u001b[0m \u001b[0msize_average\u001b[0m \u001b[1;32mis\u001b[0m \u001b[1;32mnot\u001b[0m \u001b[1;32mNone\u001b[0m \u001b[1;32mor\u001b[0m \u001b[0mreduce\u001b[0m \u001b[1;32mis\u001b[0m \u001b[1;32mnot\u001b[0m \u001b[1;32mNone\u001b[0m\u001b[1;33m:\u001b[0m\u001b[1;33m\u001b[0m\u001b[1;33m\u001b[0m\u001b[0m\n\u001b[0;32m   2209\u001b[0m         \u001b[0mreduction\u001b[0m \u001b[1;33m=\u001b[0m \u001b[0m_Reduction\u001b[0m\u001b[1;33m.\u001b[0m\u001b[0mlegacy_get_string\u001b[0m\u001b[1;33m(\u001b[0m\u001b[0msize_average\u001b[0m\u001b[1;33m,\u001b[0m \u001b[0mreduce\u001b[0m\u001b[1;33m)\u001b[0m\u001b[1;33m\u001b[0m\u001b[1;33m\u001b[0m\u001b[0m\n\u001b[1;32m-> 2210\u001b[1;33m     \u001b[0mdim\u001b[0m \u001b[1;33m=\u001b[0m \u001b[0minput\u001b[0m\u001b[1;33m.\u001b[0m\u001b[0mdim\u001b[0m\u001b[1;33m(\u001b[0m\u001b[1;33m)\u001b[0m\u001b[1;33m\u001b[0m\u001b[1;33m\u001b[0m\u001b[0m\n\u001b[0m\u001b[0;32m   2211\u001b[0m     \u001b[1;32mif\u001b[0m \u001b[0mdim\u001b[0m \u001b[1;33m<\u001b[0m \u001b[1;36m2\u001b[0m\u001b[1;33m:\u001b[0m\u001b[1;33m\u001b[0m\u001b[1;33m\u001b[0m\u001b[0m\n\u001b[0;32m   2212\u001b[0m         \u001b[1;32mraise\u001b[0m \u001b[0mValueError\u001b[0m\u001b[1;33m(\u001b[0m\u001b[1;34m'Expected 2 or more dimensions (got {})'\u001b[0m\u001b[1;33m.\u001b[0m\u001b[0mformat\u001b[0m\u001b[1;33m(\u001b[0m\u001b[0mdim\u001b[0m\u001b[1;33m)\u001b[0m\u001b[1;33m)\u001b[0m\u001b[1;33m\u001b[0m\u001b[1;33m\u001b[0m\u001b[0m\n",
      "\u001b[1;31mAttributeError\u001b[0m: 'tuple' object has no attribute 'dim'"
     ]
    }
   ],
   "source": [
    "model = LSTMTagger(EMBEDDING_DIM, HIDDEN_DIM, len(word_to_ix), len(tag_to_ix))\n",
    "loss_function = nn.NLLLoss()\n",
    "optimizer = optim.SGD(model.parameters(), lr=0.1)\n",
    "\n",
    "# See what the scores are before training\n",
    "# Note that element i,j of the output is the score for tag j for word i.\n",
    "# Here we don't need to train, so the code is wrapped in torch.no_grad()\n",
    "with torch.no_grad():\n",
    "    inputs = prepare_sequence(training_data[0][0], word_to_ix)\n",
    "    tag_scores = model(inputs)\n",
    "    print(tag_scores)\n",
    "\n",
    "for epoch in range(300):  # again, normally you would NOT do 300 epochs, it is toy data\n",
    "    for sentence, tags in training_data:\n",
    "        # Step 1. Remember that Pytorch accumulates gradients.\n",
    "        # We need to clear them out before each instance\n",
    "        model.zero_grad()\n",
    "\n",
    "        # Step 2. Get our inputs ready for the network, that is, turn them into\n",
    "        # Tensors of word indices.\n",
    "        sentence_in = prepare_sequence(sentence, word_to_ix)\n",
    "        targets = prepare_sequence(tags, tag_to_ix)\n",
    "model = LSTMTagger(EMBEDDING_DIM, HIDDEN_DIM, len(word_to_ix), len(tag_to_ix))\n",
    "loss_function = nn.NLLLoss()\n",
    "optimizer = optim.SGD(model.parameters(), lr=0.1)\n",
    "\n",
    "# See what the scores are before training\n",
    "# Note that element i,j of the output is the score for tag j for word i.\n",
    "# Here we don't need to train, so the code is wrapped in torch.no_grad()\n",
    "with torch.no_grad():\n",
    "    inputs = prepare_sequence(training_data[0][0], word_to_ix)\n",
    "    tag_scores = model(inputs)\n",
    "    print(tag_scores)\n",
    "\n",
    "for epoch in range(300):  # again, normally you would NOT do 300 epochs, it is toy data\n",
    "    for sentence, tags in training_data:\n",
    "        # Step 1. Remember that Pytorch accumulates gradients.\n",
    "        # We need to clear them out before each instance\n",
    "        model.zero_grad()\n",
    "\n",
    "        # Step 2. Get our inputs ready for the network, that is, turn them into\n",
    "        # Tensors of word indices.\n",
    "        sentence_in = prepare_sequence(sentence, word_to_ix)\n",
    "        targets = prepare_sequence(tags, tag_to_ix)\n",
    "\n",
    "        # Step 3. Run our forward pass.\n",
    "        tag_scores = model(sentence_in)\n",
    "\n",
    "        # Step 4. Compute the loss, gradients, and update the parameters by\n",
    "        #  calling optimizer.step()\n",
    "        loss = loss_function(tag_scores, targets)\n",
    "        loss.backward()\n",
    "        optimizer.step()\n",
    "\n",
    "# See what the scores are after training\n",
    "with torch.no_grad():\n",
    "    inputs = prepare_sequence(training_data[0][0], word_to_ix)\n",
    "    tag_scores = model(inputs)\n",
    "\n",
    "    # The sentence is \"the dog ate the apple\".  i,j corresponds to score for tag j\n",
    "    # for word i. The predicted tag is the maximum scoring tag.\n",
    "    # Here, we can see the predicted sequence below is 0 1 2 0 1\n",
    "    # since 0 is index of the maximum value of row 1,\n",
    "    # 1 is the index of maximum value of row 2, etc.\n",
    "    # Which is DET NOUN VERB DET NOUN, the correct sequence!\n",
    "    print(tag_scores)\n",
    "\n",
    "# See what the scores are after training\n",
    "with torch.no_grad():\n",
    "    inputs = prepare_sequence(training_data[0][0], word_to_ix)\n",
    "    tag_scores = model(inputs)\n",
    "\n",
    "    # The sentence is \"the dog ate the apple\".  i,j corresponds to score for tag j\n",
    "    # for word i. The predicted tag is the maximum scoring tag.\n",
    "    # Here, we can see the predicted sequence below is 0 1 2 0 1\n",
    "    # since 0 is index of the maximum value of row 1,\n",
    "    # 1 is the index of maximum value of row 2, etc.\n",
    "    # Which is DET NOUN VERB DET NOUN, the correct sequence!\n",
    "    print(tag_scores)"
   ]
  },
  {
   "cell_type": "code",
   "execution_count": null,
   "metadata": {},
   "outputs": [],
   "source": []
  },
  {
   "cell_type": "code",
   "execution_count": null,
   "metadata": {},
   "outputs": [],
   "source": []
  }
 ],
 "metadata": {
  "kernelspec": {
   "display_name": "Python 3",
   "language": "python",
   "name": "python3"
  },
  "language_info": {
   "codemirror_mode": {
    "name": "ipython",
    "version": 3
   },
   "file_extension": ".py",
   "mimetype": "text/x-python",
   "name": "python",
   "nbconvert_exporter": "python",
   "pygments_lexer": "ipython3",
   "version": "3.7.9"
  }
 },
 "nbformat": 4,
 "nbformat_minor": 4
}
